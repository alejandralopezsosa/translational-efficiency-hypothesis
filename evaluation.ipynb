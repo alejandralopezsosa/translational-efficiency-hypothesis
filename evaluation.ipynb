{
 "cells": [
  {
   "cell_type": "code",
   "execution_count": null,
   "metadata": {
    "vscode": {
     "languageId": "r"
    }
   },
   "outputs": [],
   "source": [
    "# Programming language: R\n",
    "# read file data_zfp_zrinka.csv\n",
    "data_gfp_zrinka <- read.csv(\"/Users/ale/Documents/thesis_codon_bias/Testing_the_TEH/data/data_gfp_zrinka.csv\", header = TRUE, sep = \",\")"
   ]
  },
  {
   "cell_type": "code",
   "execution_count": null,
   "metadata": {
    "vscode": {
     "languageId": "r"
    }
   },
   "outputs": [],
   "source": [
    "names(data_gfp_zrinka)"
   ]
  },
  {
   "cell_type": "code",
   "execution_count": null,
   "metadata": {
    "vscode": {
     "languageId": "r"
    }
   },
   "outputs": [],
   "source": [
    "# keep only 'X...sequence_name...', 'strain...' and 'fluorescence.value..AU.' columns\n",
    "data_gfp_zrinka <- data_gfp_zrinka[,c(1,2,4)]"
   ]
  },
  {
   "cell_type": "code",
   "execution_count": null,
   "metadata": {
    "vscode": {
     "languageId": "r"
    }
   },
   "outputs": [],
   "source": [
    "# group by (sequence name, strain) and calculate mean fluorescence value\n",
    "data_gfp_zrinka <- aggregate(data_gfp_zrinka$fluorescence.value..AU., by = list(data_gfp_zrinka$X...sequence_name., data_gfp_zrinka$strain.), FUN = mean)"
   ]
  },
  {
   "cell_type": "code",
   "execution_count": null,
   "metadata": {
    "vscode": {
     "languageId": "r"
    }
   },
   "outputs": [],
   "source": [
    "names(data_gfp_zrinka) <- c(\"sequence_name\", \"strain\", \"mean_fluorescence\")"
   ]
  },
  {
   "cell_type": "code",
   "execution_count": null,
   "metadata": {
    "vscode": {
     "languageId": "r"
    }
   },
   "outputs": [],
   "source": [
    "# remove rows where sequence_name is pET28b_empty\n",
    "data_gfp_zrinka <- data_gfp_zrinka[data_gfp_zrinka$sequence_name != \"pET28b_empty\",]"
   ]
  },
  {
   "cell_type": "code",
   "execution_count": null,
   "metadata": {
    "vscode": {
     "languageId": "r"
    }
   },
   "outputs": [],
   "source": [
    "head(data_gfp_zrinka)"
   ]
  },
  {
   "attachments": {},
   "cell_type": "markdown",
   "metadata": {},
   "source": [
    "#### Random model for comparison"
   ]
  },
  {
   "cell_type": "code",
   "execution_count": null,
   "metadata": {
    "vscode": {
     "languageId": "r"
    }
   },
   "outputs": [],
   "source": [
    "# Random model\n",
    "random_model <- data_gfp_zrinka\n",
    "# generate random fluorescence values for each sequence and strain\n",
    "random_model$predicted_level <- runif(nrow(data_gfp_zrinka), min = 0, max = 40000)"
   ]
  },
  {
   "cell_type": "code",
   "execution_count": null,
   "metadata": {
    "vscode": {
     "languageId": "r"
    }
   },
   "outputs": [],
   "source": [
    "head(random_model)"
   ]
  },
  {
   "attachments": {},
   "cell_type": "markdown",
   "metadata": {},
   "source": [
    "### Define metrics"
   ]
  },
  {
   "cell_type": "code",
   "execution_count": null,
   "metadata": {
    "vscode": {
     "languageId": "r"
    }
   },
   "outputs": [],
   "source": [
    "correlation <- function(model, gt_col = \"mean_fluorescence\"){\n",
    "    cor(model[,gt_col], model$predicted_level)\n",
    "}"
   ]
  },
  {
   "cell_type": "code",
   "execution_count": null,
   "metadata": {
    "vscode": {
     "languageId": "r"
    }
   },
   "outputs": [],
   "source": [
    "r_squared <- function(model, gt_col = \"mean_fluorescence\"){\n",
    "    summary(lm(model[,gt_col] ~ model$predicted_level))$r.squared\n",
    "}"
   ]
  },
  {
   "cell_type": "code",
   "execution_count": null,
   "metadata": {
    "vscode": {
     "languageId": "r"
    }
   },
   "outputs": [],
   "source": [
    "mae <- function(model, gt_col = \"mean_fluorescence\"){\n",
    "    mean(abs(model[,gt_col] - model$predicted_level))\n",
    "}"
   ]
  },
  {
   "cell_type": "code",
   "execution_count": null,
   "metadata": {
    "vscode": {
     "languageId": "r"
    }
   },
   "outputs": [],
   "source": [
    "rmse <- function(model, gt_col = \"mean_fluorescence\"){\n",
    "    sqrt(mean((model[,gt_col] - model$predicted_level)^2))\n",
    "}"
   ]
  },
  {
   "attachments": {},
   "cell_type": "markdown",
   "metadata": {},
   "source": [
    "### Compute metrics"
   ]
  },
  {
   "cell_type": "code",
   "execution_count": null,
   "metadata": {
    "vscode": {
     "languageId": "r"
    }
   },
   "outputs": [],
   "source": [
    "# create dataframe for storing results for each model\n",
    "results <- data.frame(model = character(), correlation = numeric(), r_squared = numeric(), mae = numeric(), rmse = numeric(), stringsAsFactors = FALSE)"
   ]
  },
  {
   "attachments": {},
   "cell_type": "markdown",
   "metadata": {},
   "source": [
    "# Random model"
   ]
  },
  {
   "cell_type": "code",
   "execution_count": null,
   "metadata": {
    "vscode": {
     "languageId": "r"
    }
   },
   "outputs": [],
   "source": [
    "# add results on all metrics for random model as new row in results dataframe\n",
    "results <- rbind(results, c(\"random\", correlation(random_model), r_squared(random_model), mae(random_model), rmse(random_model)))"
   ]
  },
  {
   "cell_type": "code",
   "execution_count": null,
   "metadata": {
    "vscode": {
     "languageId": "r"
    }
   },
   "outputs": [],
   "source": [
    "names(results) <- c(\"model\", \"correlation\", \"r_squared\", \"mae\", \"rmse\")"
   ]
  },
  {
   "cell_type": "code",
   "execution_count": null,
   "metadata": {
    "vscode": {
     "languageId": "r"
    }
   },
   "outputs": [],
   "source": [
    "results"
   ]
  },
  {
   "cell_type": "markdown",
   "metadata": {},
   "source": [
    "# Efficacy model"
   ]
  },
  {
   "attachments": {},
   "cell_type": "markdown",
   "metadata": {},
   "source": [
    "#### Efficacy averaged"
   ]
  },
  {
   "cell_type": "code",
   "execution_count": null,
   "metadata": {
    "vscode": {
     "languageId": "r"
    }
   },
   "outputs": [],
   "source": [
    "#read the csv file containing the data\n",
    "efficacy_model_avg <- read.csv(\"dataframes/efficacy/predicted_efficacy_averaged.csv\", header = TRUE, sep = \",\")\n",
    "names(efficacy_model_avg)"
   ]
  },
  {
   "cell_type": "code",
   "execution_count": null,
   "metadata": {
    "vscode": {
     "languageId": "r"
    }
   },
   "outputs": [],
   "source": [
    "results <- rbind(results, c(\"Efficacy averaged\", correlation(efficacy_model_avg), r_squared(efficacy_model_avg), mae(efficacy_model_avg), rmse(efficacy_model_avg)))"
   ]
  },
  {
   "cell_type": "code",
   "execution_count": null,
   "metadata": {
    "vscode": {
     "languageId": "r"
    }
   },
   "outputs": [],
   "source": [
    "results"
   ]
  },
  {
   "cell_type": "markdown",
   "metadata": {},
   "source": [
    "#### Efficacy averaged K12 strain "
   ]
  },
  {
   "cell_type": "code",
   "execution_count": null,
   "metadata": {
    "vscode": {
     "languageId": "r"
    }
   },
   "outputs": [],
   "source": [
    "#read the csv file containing the data\n",
    "efficacy_model_avg_k12 <- read.csv(\"dataframes/efficacy/predicted_efficacy_averaged_k12.csv\", header = TRUE, sep = \",\")\n",
    "names(efficacy_model_avg_k12)"
   ]
  },
  {
   "cell_type": "code",
   "execution_count": null,
   "metadata": {
    "vscode": {
     "languageId": "r"
    }
   },
   "outputs": [],
   "source": [
    "results <- rbind(results, c(\"Efficacy averaged, K12 strain\", correlation(efficacy_model_avg_k12), r_squared(efficacy_model_avg_k12), mae(efficacy_model_avg_k12), rmse(efficacy_model_avg_k12)))"
   ]
  },
  {
   "cell_type": "code",
   "execution_count": null,
   "metadata": {
    "vscode": {
     "languageId": "r"
    }
   },
   "outputs": [],
   "source": [
    "results"
   ]
  },
  {
   "cell_type": "markdown",
   "metadata": {},
   "source": [
    "#### Efficacy averaged BL21DE3 strain"
   ]
  },
  {
   "cell_type": "code",
   "execution_count": null,
   "metadata": {
    "vscode": {
     "languageId": "r"
    }
   },
   "outputs": [],
   "source": [
    "#read the csv file containing the data\n",
    "efficacy_model_avg_bl21 <- read.csv(\"dataframes/efficacy/predicted_efficacy_averaged_bl21.csv\", header = TRUE, sep = \",\")\n",
    "names(efficacy_model_avg_bl21)"
   ]
  },
  {
   "cell_type": "code",
   "execution_count": null,
   "metadata": {
    "vscode": {
     "languageId": "r"
    }
   },
   "outputs": [],
   "source": [
    "results <- rbind(results, c(\"Efficacy averaged, BL21DE3 strain\", correlation(efficacy_model_avg_bl21), r_squared(efficacy_model_avg_bl21), mae(efficacy_model_avg_bl21), rmse(efficacy_model_avg_bl21)))"
   ]
  },
  {
   "cell_type": "code",
   "execution_count": null,
   "metadata": {
    "vscode": {
     "languageId": "r"
    }
   },
   "outputs": [],
   "source": [
    "results"
   ]
  },
  {
   "cell_type": "markdown",
   "metadata": {},
   "source": [
    "#### Efficacy averaged without outliers"
   ]
  },
  {
   "cell_type": "code",
   "execution_count": null,
   "metadata": {
    "vscode": {
     "languageId": "r"
    }
   },
   "outputs": [],
   "source": [
    "efficacy_model_avg_no_outliers <- read.csv(\"dataframes/efficacy/predicted_efficacy_no_outliers_averaged.csv\", header = TRUE, sep = \",\")\n",
    "names(efficacy_model_avg_no_outliers)"
   ]
  },
  {
   "cell_type": "code",
   "execution_count": null,
   "metadata": {
    "vscode": {
     "languageId": "r"
    }
   },
   "outputs": [],
   "source": [
    "results <- rbind(results, c(\"Efficacy averaged without outliers\", correlation(efficacy_model_avg_no_outliers), r_squared(efficacy_model_avg_no_outliers), mae(efficacy_model_avg_no_outliers), rmse(efficacy_model_avg_no_outliers)))"
   ]
  },
  {
   "cell_type": "code",
   "execution_count": null,
   "metadata": {
    "vscode": {
     "languageId": "r"
    }
   },
   "outputs": [],
   "source": [
    "results"
   ]
  },
  {
   "cell_type": "markdown",
   "metadata": {},
   "source": [
    "#### Efficacy averaged without outliers, K12 strain"
   ]
  },
  {
   "cell_type": "code",
   "execution_count": null,
   "metadata": {
    "vscode": {
     "languageId": "r"
    }
   },
   "outputs": [],
   "source": [
    "#read the csv file containing the data\n",
    "efficacy_model_avg_k12_no_outliers <- read.csv(\"dataframes/efficacy/predicted_efficacy_no_outliers_averaged_k12.csv\", header = TRUE, sep = \",\")\n",
    "names(efficacy_model_avg_k12_no_outliers)"
   ]
  },
  {
   "cell_type": "code",
   "execution_count": null,
   "metadata": {
    "vscode": {
     "languageId": "r"
    }
   },
   "outputs": [],
   "source": [
    "results <- rbind(results, c(\"Efficacy averaged without outliers, K12 strain\", correlation(efficacy_model_avg_k12_no_outliers), r_squared(efficacy_model_avg_k12_no_outliers), mae(efficacy_model_avg_k12_no_outliers), rmse(efficacy_model_avg_k12_no_outliers)))"
   ]
  },
  {
   "cell_type": "code",
   "execution_count": null,
   "metadata": {
    "vscode": {
     "languageId": "r"
    }
   },
   "outputs": [],
   "source": [
    "results"
   ]
  },
  {
   "cell_type": "markdown",
   "metadata": {},
   "source": [
    "#### Efficacy averaged without outliers, BL21DE3 strain"
   ]
  },
  {
   "cell_type": "code",
   "execution_count": null,
   "metadata": {
    "vscode": {
     "languageId": "r"
    }
   },
   "outputs": [],
   "source": [
    "#read the csv file containing the data\n",
    "efficacy_model_avg_bl21_no_outliers <- read.csv(\"dataframes/efficacy/predicted_efficacy_no_outliers_averaged_bl21.csv\", header = TRUE, sep = \",\")\n",
    "names(efficacy_model_avg_bl21_no_outliers)"
   ]
  },
  {
   "cell_type": "code",
   "execution_count": null,
   "metadata": {
    "vscode": {
     "languageId": "r"
    }
   },
   "outputs": [],
   "source": [
    "results <- rbind(results, c(\"Efficacy averaged without outliers, BL21DE3 strain\", correlation(efficacy_model_avg_bl21_no_outliers), r_squared(efficacy_model_avg_bl21_no_outliers), mae(efficacy_model_avg_bl21_no_outliers), rmse(efficacy_model_avg_bl21_no_outliers)))"
   ]
  },
  {
   "cell_type": "code",
   "execution_count": null,
   "metadata": {
    "vscode": {
     "languageId": "r"
    }
   },
   "outputs": [],
   "source": [
    "results"
   ]
  },
  {
   "attachments": {},
   "cell_type": "markdown",
   "metadata": {},
   "source": [
    "#### Efficacy (not averaged)"
   ]
  },
  {
   "cell_type": "code",
   "execution_count": null,
   "metadata": {
    "vscode": {
     "languageId": "r"
    }
   },
   "outputs": [],
   "source": [
    "#read the csv file containing the data\n",
    "efficacy_model <- read.csv(\"dataframes/efficacy/predicted_efficacy.csv\", header = TRUE, sep = \",\")\n",
    "names(efficacy_model)"
   ]
  },
  {
   "cell_type": "code",
   "execution_count": null,
   "metadata": {
    "vscode": {
     "languageId": "r"
    }
   },
   "outputs": [],
   "source": [
    "results <- rbind(results, c(\"Efficacy (not averaged)\", correlation(efficacy_model, \"value\"), r_squared(efficacy_model, \"value\"), mae(efficacy_model, \"value\"), rmse(efficacy_model, \"value\")))"
   ]
  },
  {
   "cell_type": "code",
   "execution_count": null,
   "metadata": {
    "vscode": {
     "languageId": "r"
    }
   },
   "outputs": [],
   "source": [
    "results"
   ]
  },
  {
   "attachments": {},
   "cell_type": "markdown",
   "metadata": {},
   "source": [
    "#### Efficacy (not averaged) K12 strain"
   ]
  },
  {
   "cell_type": "code",
   "execution_count": null,
   "metadata": {
    "vscode": {
     "languageId": "r"
    }
   },
   "outputs": [],
   "source": [
    "# read the csv file containing the data\n",
    "efficacy_model_k12 <- read.csv(\"dataframes/efficacy/predicted_efficacy_k12.csv\", header = TRUE, sep = \",\")\n",
    "names(efficacy_model_k12)"
   ]
  },
  {
   "cell_type": "code",
   "execution_count": null,
   "metadata": {
    "vscode": {
     "languageId": "r"
    }
   },
   "outputs": [],
   "source": [
    "results <- rbind(results, c(\"Efficacy (not averaged), K12 strain\", correlation(efficacy_model_k12, \"value\"), r_squared(efficacy_model_k12, \"value\"), mae(efficacy_model_k12, \"value\"), rmse(efficacy_model_k12, \"value\")))"
   ]
  },
  {
   "cell_type": "code",
   "execution_count": null,
   "metadata": {
    "vscode": {
     "languageId": "r"
    }
   },
   "outputs": [],
   "source": [
    "results"
   ]
  },
  {
   "attachments": {},
   "cell_type": "markdown",
   "metadata": {},
   "source": [
    "#### Efficacy (not averaged) BL21DE3 strain"
   ]
  },
  {
   "cell_type": "code",
   "execution_count": null,
   "metadata": {
    "vscode": {
     "languageId": "r"
    }
   },
   "outputs": [],
   "source": [
    "# read the csv file containing the data\n",
    "efficacy_model_bl21 <- read.csv(\"dataframes/efficacy/predicted_efficacy_bl21.csv\", header = TRUE, sep = \",\")\n",
    "names(efficacy_model_bl21)"
   ]
  },
  {
   "cell_type": "code",
   "execution_count": null,
   "metadata": {
    "vscode": {
     "languageId": "r"
    }
   },
   "outputs": [],
   "source": [
    "results <- rbind(results, c(\"Efficacy (not averaged), BL21DE3 strain\", correlation(efficacy_model_bl21, \"value\"), r_squared(efficacy_model_bl21, \"value\"), mae(efficacy_model_bl21, \"value\"), rmse(efficacy_model_bl21, \"value\")))"
   ]
  },
  {
   "cell_type": "code",
   "execution_count": null,
   "metadata": {
    "vscode": {
     "languageId": "r"
    }
   },
   "outputs": [],
   "source": [
    "results"
   ]
  },
  {
   "cell_type": "markdown",
   "metadata": {},
   "source": [
    "#### Efficacy (not averaged) without outliers"
   ]
  },
  {
   "cell_type": "code",
   "execution_count": null,
   "metadata": {
    "vscode": {
     "languageId": "r"
    }
   },
   "outputs": [],
   "source": [
    "#read the csv file containing the data\n",
    "efficacy_model_no_outliers <- read.csv(\"dataframes/efficacy/predicted_efficacy_no_outliers.csv\", header = TRUE, sep = \",\")\n",
    "names(efficacy_model_no_outliers)"
   ]
  },
  {
   "cell_type": "code",
   "execution_count": null,
   "metadata": {
    "vscode": {
     "languageId": "r"
    }
   },
   "outputs": [],
   "source": [
    "results <- rbind(results, c(\"Efficacy (not averaged) without outliers\", correlation(efficacy_model_no_outliers, \"value\"), r_squared(efficacy_model_no_outliers, \"value\"), mae(efficacy_model_no_outliers, \"value\"), rmse(efficacy_model_no_outliers, \"value\")))"
   ]
  },
  {
   "cell_type": "code",
   "execution_count": null,
   "metadata": {
    "vscode": {
     "languageId": "r"
    }
   },
   "outputs": [],
   "source": [
    "results"
   ]
  },
  {
   "cell_type": "markdown",
   "metadata": {},
   "source": [
    "#### Efficacy (not averaged) without outliers K12 strain"
   ]
  },
  {
   "cell_type": "code",
   "execution_count": null,
   "metadata": {
    "vscode": {
     "languageId": "r"
    }
   },
   "outputs": [],
   "source": [
    "# read the csv file containing the data\n",
    "efficacy_model_k12_no_outliers <- read.csv(\"dataframes/efficacy/predicted_efficacy_no_outliers_k12.csv\", header = TRUE, sep = \",\")\n",
    "names(efficacy_model_k12_no_outliers)"
   ]
  },
  {
   "cell_type": "code",
   "execution_count": null,
   "metadata": {
    "vscode": {
     "languageId": "r"
    }
   },
   "outputs": [],
   "source": [
    "results <- rbind(results, c(\"Efficacy (not averaged) without outliers, K12 strain\", correlation(efficacy_model_k12_no_outliers, \"value\"), r_squared(efficacy_model_k12_no_outliers, \"value\"), mae(efficacy_model_k12_no_outliers, \"value\"), rmse(efficacy_model_k12_no_outliers, \"value\")))"
   ]
  },
  {
   "cell_type": "code",
   "execution_count": null,
   "metadata": {
    "vscode": {
     "languageId": "r"
    }
   },
   "outputs": [],
   "source": [
    "results"
   ]
  },
  {
   "cell_type": "markdown",
   "metadata": {},
   "source": [
    "#### Efficacy (not averaged) without outliers BL21DE3 strain"
   ]
  },
  {
   "cell_type": "code",
   "execution_count": null,
   "metadata": {
    "vscode": {
     "languageId": "r"
    }
   },
   "outputs": [],
   "source": [
    "# read the csv file containing the data\n",
    "efficacy_model_bl21_no_outliers <- read.csv(\"dataframes/efficacy/predicted_efficacy_no_outliers_bl21.csv\", header = TRUE, sep = \",\")\n",
    "names(efficacy_model_bl21)"
   ]
  },
  {
   "cell_type": "code",
   "execution_count": null,
   "metadata": {
    "vscode": {
     "languageId": "r"
    }
   },
   "outputs": [],
   "source": [
    "results <- rbind(results, c(\"Efficacy (not averaged) without outliers, BL21DE3 strain\", correlation(efficacy_model_bl21_no_outliers, \"value\"), r_squared(efficacy_model_bl21_no_outliers, \"value\"), mae(efficacy_model_bl21_no_outliers, \"value\"), rmse(efficacy_model_bl21_no_outliers, \"value\")))"
   ]
  },
  {
   "cell_type": "code",
   "execution_count": null,
   "metadata": {
    "vscode": {
     "languageId": "r"
    }
   },
   "outputs": [],
   "source": [
    "results"
   ]
  },
  {
   "cell_type": "markdown",
   "metadata": {},
   "source": [
    "# Accuracy model"
   ]
  },
  {
   "attachments": {},
   "cell_type": "markdown",
   "metadata": {},
   "source": [
    "#### Accuracy averaged"
   ]
  },
  {
   "cell_type": "code",
   "execution_count": null,
   "metadata": {
    "vscode": {
     "languageId": "r"
    }
   },
   "outputs": [],
   "source": [
    "# read the csv file containing the data\n",
    "accuracy_model_avg <- read.csv(\"dataframes/accuracy/accuracy_model_predictions_averaged.csv\", header = TRUE, sep = \",\")\n",
    "names(accuracy_model_avg)"
   ]
  },
  {
   "cell_type": "code",
   "execution_count": null,
   "metadata": {
    "vscode": {
     "languageId": "r"
    }
   },
   "outputs": [],
   "source": [
    "results <- rbind(results, c(\"Accuracy averaged\", correlation(accuracy_model_avg), r_squared(accuracy_model_avg), mae(accuracy_model_avg), rmse(accuracy_model_avg)))"
   ]
  },
  {
   "cell_type": "code",
   "execution_count": null,
   "metadata": {
    "vscode": {
     "languageId": "r"
    }
   },
   "outputs": [],
   "source": [
    "results"
   ]
  },
  {
   "cell_type": "markdown",
   "metadata": {},
   "source": [
    "#### Accuracy averaged, K12 strain"
   ]
  },
  {
   "cell_type": "code",
   "execution_count": null,
   "metadata": {
    "vscode": {
     "languageId": "r"
    }
   },
   "outputs": [],
   "source": [
    "# read the csv file containing the data\n",
    "accuracy_model_avg_k12 <- read.csv(\"dataframes/accuracy/accuracy_model_predictions_averaged_k12.csv\", header = TRUE, sep = \",\")\n",
    "names(accuracy_model_avg_k12)"
   ]
  },
  {
   "cell_type": "code",
   "execution_count": null,
   "metadata": {
    "vscode": {
     "languageId": "r"
    }
   },
   "outputs": [],
   "source": [
    "results <- rbind(results, c(\"Accuracy averaged, K12 strain\", correlation(accuracy_model_avg_k12), r_squared(accuracy_model_avg_k12), mae(accuracy_model_avg_k12), rmse(accuracy_model_avg_k12)))"
   ]
  },
  {
   "cell_type": "code",
   "execution_count": null,
   "metadata": {
    "vscode": {
     "languageId": "r"
    }
   },
   "outputs": [],
   "source": [
    "results"
   ]
  },
  {
   "cell_type": "markdown",
   "metadata": {},
   "source": [
    "#### Accuracy averaged, BL21DE3 strain"
   ]
  },
  {
   "cell_type": "code",
   "execution_count": null,
   "metadata": {
    "vscode": {
     "languageId": "r"
    }
   },
   "outputs": [],
   "source": [
    "# read the csv file containing the data\n",
    "accuracy_model_avg_bl21 <- read.csv(\"dataframes/accuracy/accuracy_model_predictions_averaged_bl21.csv\", header = TRUE, sep = \",\")\n",
    "names(accuracy_model_avg_bl21)"
   ]
  },
  {
   "cell_type": "code",
   "execution_count": null,
   "metadata": {
    "vscode": {
     "languageId": "r"
    }
   },
   "outputs": [],
   "source": [
    "results <- rbind(results, c(\"Accuracy averaged, BL21DE3 strain\", correlation(accuracy_model_avg_bl21), r_squared(accuracy_model_avg_bl21), mae(accuracy_model_avg_bl21), rmse(accuracy_model_avg_bl21)))"
   ]
  },
  {
   "cell_type": "code",
   "execution_count": null,
   "metadata": {
    "vscode": {
     "languageId": "r"
    }
   },
   "outputs": [],
   "source": [
    "results"
   ]
  },
  {
   "cell_type": "markdown",
   "metadata": {},
   "source": [
    "#### Accuracy averaged without outliers"
   ]
  },
  {
   "cell_type": "code",
   "execution_count": null,
   "metadata": {
    "vscode": {
     "languageId": "r"
    }
   },
   "outputs": [],
   "source": [
    "# read the csv file containing the data\n",
    "accuracy_model_avg_no_outliers <- read.csv(\"dataframes/accuracy/accuracy_model_predictions_averaged_no_outliers.csv\", header = TRUE, sep = \",\")\n",
    "names(accuracy_model_avg_no_outliers)"
   ]
  },
  {
   "cell_type": "code",
   "execution_count": null,
   "metadata": {
    "vscode": {
     "languageId": "r"
    }
   },
   "outputs": [],
   "source": [
    "results <- rbind(results, c(\"Accuracy averaged without outliers\", correlation(accuracy_model_avg_no_outliers), r_squared(accuracy_model_avg_no_outliers), mae(accuracy_model_avg_no_outliers), rmse(accuracy_model_avg_no_outliers)))"
   ]
  },
  {
   "cell_type": "code",
   "execution_count": null,
   "metadata": {
    "vscode": {
     "languageId": "r"
    }
   },
   "outputs": [],
   "source": [
    "results"
   ]
  },
  {
   "cell_type": "markdown",
   "metadata": {},
   "source": [
    "#### Accuracy averaged without outliers, K12 strain"
   ]
  },
  {
   "cell_type": "code",
   "execution_count": null,
   "metadata": {
    "vscode": {
     "languageId": "r"
    }
   },
   "outputs": [],
   "source": [
    "# read the csv file containing the data\n",
    "accuracy_model_avg_k12_no_outliers <- read.csv(\"dataframes/accuracy/accuracy_model_predictions_averaged_no_outliers_k12.csv\", header = TRUE, sep = \",\")\n",
    "names(accuracy_model_avg_k12_no_outliers)"
   ]
  },
  {
   "cell_type": "code",
   "execution_count": null,
   "metadata": {
    "vscode": {
     "languageId": "r"
    }
   },
   "outputs": [],
   "source": [
    "results <- rbind(results, c(\"Accuracy averaged without outliers, K12 strain\", correlation(accuracy_model_avg_k12_no_outliers), r_squared(accuracy_model_avg_k12_no_outliers), mae(accuracy_model_avg_k12_no_outliers), rmse(accuracy_model_avg_k12_no_outliers)))"
   ]
  },
  {
   "cell_type": "code",
   "execution_count": null,
   "metadata": {
    "vscode": {
     "languageId": "r"
    }
   },
   "outputs": [],
   "source": [
    "results"
   ]
  },
  {
   "cell_type": "markdown",
   "metadata": {},
   "source": [
    "#### Accuracy averaged without outliers, BL21DE3 strain"
   ]
  },
  {
   "cell_type": "code",
   "execution_count": null,
   "metadata": {
    "vscode": {
     "languageId": "r"
    }
   },
   "outputs": [],
   "source": [
    "# read the csv file containing the data\n",
    "accuracy_model_avg_bl21_no_outliers <- read.csv(\"dataframes/accuracy/accuracy_model_predictions_averaged_no_outliers_bl21.csv\", header = TRUE, sep = \",\")\n",
    "names(accuracy_model_avg_bl21_no_outliers)"
   ]
  },
  {
   "cell_type": "code",
   "execution_count": null,
   "metadata": {
    "vscode": {
     "languageId": "r"
    }
   },
   "outputs": [],
   "source": [
    "results <- rbind(results, c(\"Accuracy averaged without outliers, BL21DE3 strain\", correlation(accuracy_model_avg_bl21_no_outliers), r_squared(accuracy_model_avg_bl21_no_outliers), mae(accuracy_model_avg_bl21_no_outliers), rmse(accuracy_model_avg_bl21_no_outliers)))"
   ]
  },
  {
   "cell_type": "code",
   "execution_count": null,
   "metadata": {
    "vscode": {
     "languageId": "r"
    }
   },
   "outputs": [],
   "source": [
    "results"
   ]
  },
  {
   "attachments": {},
   "cell_type": "markdown",
   "metadata": {},
   "source": [
    "#### Accuracy (not averaged)"
   ]
  },
  {
   "cell_type": "code",
   "execution_count": null,
   "metadata": {
    "vscode": {
     "languageId": "r"
    }
   },
   "outputs": [],
   "source": [
    "# read the csv file containing the data\n",
    "accuracy_model <- read.csv(\"dataframes/accuracy/accuracy_model_predictions.csv\", header = TRUE, sep = \",\")\n",
    "names(accuracy_model)"
   ]
  },
  {
   "cell_type": "code",
   "execution_count": null,
   "metadata": {
    "vscode": {
     "languageId": "r"
    }
   },
   "outputs": [],
   "source": [
    "results <- rbind(results, c(\"Accuracy (not averaged)\", correlation(accuracy_model, \"value\"), r_squared(accuracy_model, \"value\"), mae(accuracy_model, \"value\"), rmse(accuracy_model, \"value\")))"
   ]
  },
  {
   "cell_type": "code",
   "execution_count": null,
   "metadata": {
    "vscode": {
     "languageId": "r"
    }
   },
   "outputs": [],
   "source": [
    "results"
   ]
  },
  {
   "attachments": {},
   "cell_type": "markdown",
   "metadata": {},
   "source": [
    "#### Accuracy (not averaged), K12 strain"
   ]
  },
  {
   "cell_type": "code",
   "execution_count": null,
   "metadata": {
    "vscode": {
     "languageId": "r"
    }
   },
   "outputs": [],
   "source": [
    "# read the csv file containing the data\n",
    "accuracy_model_k12 <- read.csv(\"dataframes/accuracy/accuracy_model_predictions_k12.csv\", header = TRUE, sep = \",\")\n",
    "names(accuracy_model_k12)"
   ]
  },
  {
   "cell_type": "code",
   "execution_count": null,
   "metadata": {
    "vscode": {
     "languageId": "r"
    }
   },
   "outputs": [],
   "source": [
    "results <- rbind(results, c(\"Accuracy (not averaged), K12 strain\", correlation(accuracy_model_k12, \"value\"), r_squared(accuracy_model_k12, \"value\"), mae(accuracy_model_k12, \"value\"), rmse(accuracy_model_k12, \"value\")))"
   ]
  },
  {
   "cell_type": "code",
   "execution_count": null,
   "metadata": {
    "vscode": {
     "languageId": "r"
    }
   },
   "outputs": [],
   "source": [
    "results"
   ]
  },
  {
   "cell_type": "markdown",
   "metadata": {},
   "source": [
    "#### Accuracy (not averaged), BL21DE3 strain"
   ]
  },
  {
   "cell_type": "code",
   "execution_count": null,
   "metadata": {
    "vscode": {
     "languageId": "r"
    }
   },
   "outputs": [],
   "source": [
    "# read the csv file containing the data\n",
    "accuracy_model_bl21 <- read.csv(\"dataframes/accuracy/accuracy_model_predictions_bl21.csv\", header = TRUE, sep = \",\")\n",
    "names(accuracy_model_bl21)"
   ]
  },
  {
   "cell_type": "code",
   "execution_count": null,
   "metadata": {
    "vscode": {
     "languageId": "r"
    }
   },
   "outputs": [],
   "source": [
    "results <- rbind(results, c(\"Accuracy (not averaged), BL21DE3 strain\", correlation(accuracy_model_bl21, \"value\"), r_squared(accuracy_model_bl21, \"value\"), mae(accuracy_model_bl21, \"value\"), rmse(accuracy_model_bl21, \"value\")))"
   ]
  },
  {
   "cell_type": "code",
   "execution_count": null,
   "metadata": {
    "vscode": {
     "languageId": "r"
    }
   },
   "outputs": [],
   "source": [
    "results"
   ]
  },
  {
   "attachments": {},
   "cell_type": "markdown",
   "metadata": {},
   "source": [
    "#### Accuracy (not averaged) without outliers"
   ]
  },
  {
   "cell_type": "code",
   "execution_count": null,
   "metadata": {
    "vscode": {
     "languageId": "r"
    }
   },
   "outputs": [],
   "source": [
    "# read the csv file containing the data\n",
    "accuracy_model_no_outliers <- read.csv(\"dataframes/accuracy/accuracy_model_predictions_no_outliers.csv\", header = TRUE, sep = \",\")\n",
    "names(accuracy_model_no_outliers)"
   ]
  },
  {
   "cell_type": "code",
   "execution_count": null,
   "metadata": {
    "vscode": {
     "languageId": "r"
    }
   },
   "outputs": [],
   "source": [
    "results <- rbind(results, c(\"Accuracy (not averaged) without outliers\", correlation(accuracy_model_no_outliers, \"value\"), r_squared(accuracy_model_no_outliers, \"value\"), mae(accuracy_model_no_outliers, \"value\"), rmse(accuracy_model_no_outliers, \"value\")))"
   ]
  },
  {
   "cell_type": "code",
   "execution_count": null,
   "metadata": {
    "vscode": {
     "languageId": "r"
    }
   },
   "outputs": [],
   "source": [
    "results"
   ]
  },
  {
   "cell_type": "markdown",
   "metadata": {},
   "source": [
    "#### Accuracy (not averaged) without outliers, K12 strain"
   ]
  },
  {
   "cell_type": "code",
   "execution_count": null,
   "metadata": {
    "vscode": {
     "languageId": "r"
    }
   },
   "outputs": [],
   "source": [
    "# read the csv file containing the data\n",
    "accuracy_model_no_outliers_k12 <- read.csv(\"dataframes/accuracy/accuracy_model_predictions_no_outliers_k12.csv\", header = TRUE, sep = \",\")\n",
    "names(accuracy_model_no_outliers_k12)"
   ]
  },
  {
   "cell_type": "code",
   "execution_count": null,
   "metadata": {
    "vscode": {
     "languageId": "r"
    }
   },
   "outputs": [],
   "source": [
    "results <- rbind(results, c(\"Accuracy (not averaged) without outliers, K12 strain\", correlation(accuracy_model_no_outliers_k12, \"value\"), r_squared(accuracy_model_no_outliers_k12, \"value\"), mae(accuracy_model_no_outliers_k12, \"value\"), rmse(accuracy_model_no_outliers_k12, \"value\")))"
   ]
  },
  {
   "cell_type": "code",
   "execution_count": null,
   "metadata": {
    "vscode": {
     "languageId": "r"
    }
   },
   "outputs": [],
   "source": [
    "results"
   ]
  },
  {
   "cell_type": "markdown",
   "metadata": {},
   "source": [
    "#### Accuracy (not averaged) without outliers, BL21DE3 strain"
   ]
  },
  {
   "cell_type": "code",
   "execution_count": null,
   "metadata": {
    "vscode": {
     "languageId": "r"
    }
   },
   "outputs": [],
   "source": [
    "# read the csv file containing the data\n",
    "accuracy_model_no_outliers_bl21 <- read.csv(\"dataframes/accuracy/accuracy_model_predictions_no_outliers_bl21.csv\", header = TRUE, sep = \",\")\n",
    "names(accuracy_model_no_outliers_bl21)"
   ]
  },
  {
   "cell_type": "code",
   "execution_count": null,
   "metadata": {
    "vscode": {
     "languageId": "r"
    }
   },
   "outputs": [],
   "source": [
    "results <- rbind(results, c(\"Accuracy (not averaged) without outliers, BL21DE3 strain\", correlation(accuracy_model_no_outliers_bl21, \"value\"), r_squared(accuracy_model_no_outliers_bl21, \"value\"), mae(accuracy_model_no_outliers_bl21, \"value\"), rmse(accuracy_model_no_outliers_bl21, \"value\")))"
   ]
  },
  {
   "cell_type": "code",
   "execution_count": null,
   "metadata": {
    "vscode": {
     "languageId": "r"
    }
   },
   "outputs": [],
   "source": [
    "results"
   ]
  },
  {
   "cell_type": "markdown",
   "metadata": {},
   "source": [
    "# Efficacy - Accuracy model"
   ]
  },
  {
   "cell_type": "markdown",
   "metadata": {},
   "source": [
    "#### Efficacy - accuracy averaged"
   ]
  },
  {
   "cell_type": "code",
   "execution_count": null,
   "metadata": {
    "vscode": {
     "languageId": "r"
    }
   },
   "outputs": [],
   "source": [
    "# read the csv file containing the data\n",
    "effi_accu_model_avg <- read.csv(\"dataframes/efficacy_accuracy/data_ecoli_averaged.csv\", header = TRUE, sep = \",\")\n",
    "names(effi_accu_model_avg)"
   ]
  },
  {
   "cell_type": "code",
   "execution_count": null,
   "metadata": {
    "vscode": {
     "languageId": "r"
    }
   },
   "outputs": [],
   "source": [
    "results <- rbind(results, c(\"Efficacy-Accuracy averaged\", correlation(effi_accu_model_avg), r_squared(effi_accu_model_avg), mae(effi_accu_model_avg), rmse(effi_accu_model_avg)))"
   ]
  },
  {
   "cell_type": "code",
   "execution_count": null,
   "metadata": {
    "vscode": {
     "languageId": "r"
    }
   },
   "outputs": [],
   "source": [
    "results"
   ]
  },
  {
   "cell_type": "markdown",
   "metadata": {},
   "source": [
    "#### Efficacy - accuracy averaged, K12 strain"
   ]
  },
  {
   "cell_type": "code",
   "execution_count": null,
   "metadata": {
    "vscode": {
     "languageId": "r"
    }
   },
   "outputs": [],
   "source": [
    "# read the csv file containing the data\n",
    "effi_accu_model_avg_k12 <- read.csv(\"dataframes/efficacy_accuracy/data_ecoli_averaged_K12.csv\", header = TRUE, sep = \",\")\n",
    "names(effi_accu_model_avg_k12)"
   ]
  },
  {
   "cell_type": "code",
   "execution_count": null,
   "metadata": {
    "vscode": {
     "languageId": "r"
    }
   },
   "outputs": [],
   "source": [
    "results <- rbind(results, c(\"Efficacy-Accuracy averaged, K12 strain\", correlation(effi_accu_model_avg_k12), r_squared(effi_accu_model_avg_k12), mae(effi_accu_model_avg_k12), rmse(effi_accu_model_avg_k12)))"
   ]
  },
  {
   "cell_type": "code",
   "execution_count": null,
   "metadata": {
    "vscode": {
     "languageId": "r"
    }
   },
   "outputs": [],
   "source": [
    "results"
   ]
  },
  {
   "cell_type": "markdown",
   "metadata": {},
   "source": [
    "#### Efficacy - accuracy averaged, BL21DE3 strain"
   ]
  },
  {
   "cell_type": "code",
   "execution_count": null,
   "metadata": {
    "vscode": {
     "languageId": "r"
    }
   },
   "outputs": [],
   "source": [
    "# read the csv file containing the data\n",
    "effi_accu_model_avg_bl21 <- read.csv(\"dataframes/efficacy_accuracy/data_ecoli_averaged_BL21DE3.csv\", header = TRUE, sep = \",\")\n",
    "names(effi_accu_model_avg_bl21)"
   ]
  },
  {
   "cell_type": "code",
   "execution_count": null,
   "metadata": {
    "vscode": {
     "languageId": "r"
    }
   },
   "outputs": [],
   "source": [
    "results <- rbind(results, c(\"Efficacy-Accuracy averaged, BL21DE3 strain\", correlation(effi_accu_model_avg_bl21), r_squared(effi_accu_model_avg_bl21), mae(effi_accu_model_avg_bl21), rmse(effi_accu_model_avg_bl21)))"
   ]
  },
  {
   "cell_type": "code",
   "execution_count": null,
   "metadata": {
    "vscode": {
     "languageId": "r"
    }
   },
   "outputs": [],
   "source": [
    "results"
   ]
  },
  {
   "cell_type": "markdown",
   "metadata": {},
   "source": [
    "#### Efficacy - accuracy averaged without outliers"
   ]
  },
  {
   "cell_type": "code",
   "execution_count": null,
   "metadata": {
    "vscode": {
     "languageId": "r"
    }
   },
   "outputs": [],
   "source": [
    "# read the csv file containing the data\n",
    "effi_accu_model_avg_no_outliers <- read.csv(\"dataframes/efficacy_accuracy/data_ecoli_no_outliers_averaged.csv\", header = TRUE, sep = \",\")\n",
    "names(effi_accu_model_avg_no_outliers)"
   ]
  },
  {
   "cell_type": "code",
   "execution_count": null,
   "metadata": {
    "vscode": {
     "languageId": "r"
    }
   },
   "outputs": [],
   "source": [
    "results <- rbind(results, c(\"Efficacy-Accuracy averaged without outliers\", correlation(effi_accu_model_avg_no_outliers), r_squared(effi_accu_model_avg_no_outliers), mae(effi_accu_model_avg_no_outliers), rmse(effi_accu_model_avg_no_outliers)))"
   ]
  },
  {
   "cell_type": "code",
   "execution_count": null,
   "metadata": {
    "vscode": {
     "languageId": "r"
    }
   },
   "outputs": [],
   "source": [
    "results"
   ]
  },
  {
   "cell_type": "markdown",
   "metadata": {},
   "source": [
    "#### Efficacy - accuracy averaged without outliers, K12 strain"
   ]
  },
  {
   "cell_type": "code",
   "execution_count": null,
   "metadata": {
    "vscode": {
     "languageId": "r"
    }
   },
   "outputs": [],
   "source": [
    "# read the csv file containing the data\n",
    "effi_accu_model_avg_no_outliers_k12 <- read.csv(\"dataframes/efficacy_accuracy/data_ecoli_no_outliers_averaged_K12.csv\", header = TRUE, sep = \",\")\n",
    "names(effi_accu_model_avg_no_outliers_k12)"
   ]
  },
  {
   "cell_type": "code",
   "execution_count": null,
   "metadata": {
    "vscode": {
     "languageId": "r"
    }
   },
   "outputs": [],
   "source": [
    "results <- rbind(results, c(\"Efficacy-Accuracy averaged without outliers, K12 strain\", correlation(effi_accu_model_avg_no_outliers_k12), r_squared(effi_accu_model_avg_no_outliers_k12), mae(effi_accu_model_avg_no_outliers_k12), rmse(effi_accu_model_avg_no_outliers_k12)))"
   ]
  },
  {
   "cell_type": "code",
   "execution_count": null,
   "metadata": {
    "vscode": {
     "languageId": "r"
    }
   },
   "outputs": [],
   "source": [
    "results"
   ]
  },
  {
   "cell_type": "markdown",
   "metadata": {},
   "source": [
    "#### Efficacy - accuracy averaged without outliers, BL21DE3 strain"
   ]
  },
  {
   "cell_type": "code",
   "execution_count": null,
   "metadata": {
    "vscode": {
     "languageId": "r"
    }
   },
   "outputs": [],
   "source": [
    "# read the csv file containing the data\n",
    "effi_accu_model_avg_no_outliers_bl21 <- read.csv(\"dataframes/efficacy_accuracy/data_ecoli_no_outliers_averaged_BL21DE3.csv\", header = TRUE, sep = \",\")\n",
    "names(effi_accu_model_avg_no_outliers_bl21)"
   ]
  },
  {
   "cell_type": "code",
   "execution_count": null,
   "metadata": {
    "vscode": {
     "languageId": "r"
    }
   },
   "outputs": [],
   "source": [
    "results <- rbind(results, c(\"Efficacy-Accuracy averaged without outliers, BL21DE3 strain\", correlation(effi_accu_model_avg_no_outliers_bl21), r_squared(effi_accu_model_avg_no_outliers_bl21), mae(effi_accu_model_avg_no_outliers_bl21), rmse(effi_accu_model_avg_no_outliers_bl21)))"
   ]
  },
  {
   "cell_type": "code",
   "execution_count": null,
   "metadata": {
    "vscode": {
     "languageId": "r"
    }
   },
   "outputs": [],
   "source": [
    "results"
   ]
  },
  {
   "cell_type": "markdown",
   "metadata": {},
   "source": [
    "#### Efficacy - accuracy (not averaged)"
   ]
  },
  {
   "cell_type": "code",
   "execution_count": null,
   "metadata": {
    "vscode": {
     "languageId": "r"
    }
   },
   "outputs": [],
   "source": [
    "# read the csv file containing the data\n",
    "effi_accu_model <- read.csv(\"dataframes/efficacy_accuracy/data_ecoli.csv\", header = TRUE, sep = \",\")\n",
    "names(effi_accu_model)"
   ]
  },
  {
   "cell_type": "code",
   "execution_count": null,
   "metadata": {
    "vscode": {
     "languageId": "r"
    }
   },
   "outputs": [],
   "source": [
    "results <- rbind(results, c(\"Efficacy-Accuracy (not averaged)\", correlation(effi_accu_model, \"value\"), r_squared(effi_accu_model, \"value\"), mae(effi_accu_model, \"value\"), rmse(effi_accu_model, \"value\")))"
   ]
  },
  {
   "cell_type": "code",
   "execution_count": null,
   "metadata": {
    "vscode": {
     "languageId": "r"
    }
   },
   "outputs": [],
   "source": [
    "results"
   ]
  },
  {
   "cell_type": "markdown",
   "metadata": {},
   "source": [
    "#### Efficacy - accuracy (not averaged), K12 strain"
   ]
  },
  {
   "cell_type": "code",
   "execution_count": null,
   "metadata": {
    "vscode": {
     "languageId": "r"
    }
   },
   "outputs": [],
   "source": [
    "# read the csv file containing the data\n",
    "effi_accu_model_k12 <- read.csv(\"dataframes/efficacy_accuracy/data_ecoli_K12.csv\", header = TRUE, sep = \",\")\n",
    "names(effi_accu_model_k12)"
   ]
  },
  {
   "cell_type": "code",
   "execution_count": null,
   "metadata": {
    "vscode": {
     "languageId": "r"
    }
   },
   "outputs": [],
   "source": [
    "results <- rbind(results, c(\"Efficacy-Accuracy (not averaged), K12 strain\", correlation(effi_accu_model_k12, \"value\"), r_squared(effi_accu_model_k12, \"value\"), mae(effi_accu_model_k12, \"value\"), rmse(effi_accu_model_k12, \"value\")))"
   ]
  },
  {
   "cell_type": "code",
   "execution_count": null,
   "metadata": {
    "vscode": {
     "languageId": "r"
    }
   },
   "outputs": [],
   "source": [
    "results"
   ]
  },
  {
   "cell_type": "markdown",
   "metadata": {},
   "source": [
    "#### Efficacy - accuracy (not averaged), BL21DE3 strain"
   ]
  },
  {
   "cell_type": "code",
   "execution_count": null,
   "metadata": {
    "vscode": {
     "languageId": "r"
    }
   },
   "outputs": [],
   "source": [
    "# read the csv file containing the data\n",
    "effi_accu_model_bl21 <- read.csv(\"dataframes/efficacy_accuracy/data_ecoli_BL21DE3.csv\", header = TRUE, sep = \",\")\n",
    "names(effi_accu_model_bl21)"
   ]
  },
  {
   "cell_type": "code",
   "execution_count": null,
   "metadata": {
    "vscode": {
     "languageId": "r"
    }
   },
   "outputs": [],
   "source": [
    "results <- rbind(results, c(\"Efficacy-Accuracy (not averaged), BL21DE3 strain\", correlation(effi_accu_model_bl21, \"value\"), r_squared(effi_accu_model_bl21, \"value\"), mae(effi_accu_model_bl21, \"value\"), rmse(effi_accu_model_bl21, \"value\")))"
   ]
  },
  {
   "cell_type": "code",
   "execution_count": null,
   "metadata": {
    "vscode": {
     "languageId": "r"
    }
   },
   "outputs": [],
   "source": [
    "results"
   ]
  },
  {
   "cell_type": "markdown",
   "metadata": {},
   "source": [
    "#### Efficacy - accuracy (not averaged) without outliers"
   ]
  },
  {
   "cell_type": "code",
   "execution_count": null,
   "metadata": {
    "vscode": {
     "languageId": "r"
    }
   },
   "outputs": [],
   "source": [
    "# read the csv file containing the data\n",
    "effi_accu_model_no_outliers <- read.csv(\"dataframes/efficacy_accuracy/data_ecoli_no_outliers.csv\", header = TRUE, sep = \",\")\n",
    "names(effi_accu_model_no_outliers)"
   ]
  },
  {
   "cell_type": "code",
   "execution_count": null,
   "metadata": {
    "vscode": {
     "languageId": "r"
    }
   },
   "outputs": [],
   "source": [
    "results <- rbind(results, c(\"Efficacy-Accuracy (not averaged) without outliers\", correlation(effi_accu_model_no_outliers, \"value\"), r_squared(effi_accu_model_no_outliers, \"value\"), mae(effi_accu_model_no_outliers, \"value\"), rmse(effi_accu_model_no_outliers, \"value\")))"
   ]
  },
  {
   "cell_type": "code",
   "execution_count": null,
   "metadata": {
    "vscode": {
     "languageId": "r"
    }
   },
   "outputs": [],
   "source": [
    "results"
   ]
  },
  {
   "cell_type": "markdown",
   "metadata": {},
   "source": [
    "#### Efficacy - accuracy (not averaged) without outliers, K12 strain"
   ]
  },
  {
   "cell_type": "code",
   "execution_count": null,
   "metadata": {
    "vscode": {
     "languageId": "r"
    }
   },
   "outputs": [],
   "source": [
    "# read the csv file containing the data\n",
    "effi_accu_model_no_outliers_k12 <- read.csv(\"dataframes/efficacy_accuracy/data_ecoli_no_outliers_K12.csv\", header = TRUE, sep = \",\")\n",
    "names(effi_accu_model_no_outliers_k12)"
   ]
  },
  {
   "cell_type": "code",
   "execution_count": null,
   "metadata": {
    "vscode": {
     "languageId": "r"
    }
   },
   "outputs": [],
   "source": [
    "results <- rbind(results, c(\"Efficacy-Accuracy (not averaged) without outliers, K12 strain\", correlation(effi_accu_model_no_outliers_k12, \"value\"), r_squared(effi_accu_model_no_outliers_k12, \"value\"), mae(effi_accu_model_no_outliers_k12, \"value\"), rmse(effi_accu_model_no_outliers_k12, \"value\")))"
   ]
  },
  {
   "cell_type": "code",
   "execution_count": null,
   "metadata": {
    "vscode": {
     "languageId": "r"
    }
   },
   "outputs": [],
   "source": [
    "results"
   ]
  },
  {
   "cell_type": "markdown",
   "metadata": {},
   "source": [
    "#### Efficacy - accuracy (not averaged) without outliers, BL21DE3 strain"
   ]
  },
  {
   "cell_type": "code",
   "execution_count": null,
   "metadata": {
    "vscode": {
     "languageId": "r"
    }
   },
   "outputs": [],
   "source": [
    "# read the csv file containing the data\n",
    "effi_accu_model_no_outliers_bl21 <- read.csv(\"dataframes/efficacy_accuracy/data_ecoli_no_outliers_BL21DE3.csv\", header = TRUE, sep = \",\")\n",
    "names(effi_accu_model_no_outliers_bl21)"
   ]
  },
  {
   "cell_type": "code",
   "execution_count": null,
   "metadata": {
    "vscode": {
     "languageId": "r"
    }
   },
   "outputs": [],
   "source": [
    "results <- rbind(results, c(\"Efficacy-Accuracy (not averaged) without outliers, BL21DE3 strain\", correlation(effi_accu_model_no_outliers_bl21, \"value\"), r_squared(effi_accu_model_no_outliers_bl21, \"value\"), mae(effi_accu_model_no_outliers_bl21, \"value\"), rmse(effi_accu_model_no_outliers_bl21, \"value\")))"
   ]
  },
  {
   "cell_type": "code",
   "execution_count": null,
   "metadata": {
    "vscode": {
     "languageId": "r"
    }
   },
   "outputs": [],
   "source": [
    "results"
   ]
  }
 ],
 "metadata": {
  "kernelspec": {
   "display_name": "R",
   "language": "R",
   "name": "ir"
  },
  "language_info": {
   "codemirror_mode": "r",
   "file_extension": ".r",
   "mimetype": "text/x-r-source",
   "name": "R",
   "pygments_lexer": "r",
   "version": "4.1.1"
  },
  "orig_nbformat": 4
 },
 "nbformat": 4,
 "nbformat_minor": 2
}
