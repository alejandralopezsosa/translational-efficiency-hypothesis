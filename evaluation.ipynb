{
 "cells": [
  {
   "cell_type": "code",
   "execution_count": 51,
   "metadata": {
    "vscode": {
     "languageId": "r"
    }
   },
   "outputs": [],
   "source": [
    "# Programming language: R\n",
    "# read file data_zfp_zrinka.csv\n",
    "data_gfp_zrinka <- read.csv(\"/Users/ale/Documents/thesis_codon_bias/Testing_the_TEH/data/data_gfp_zrinka.csv\", header = TRUE, sep = \",\")"
   ]
  },
  {
   "cell_type": "code",
   "execution_count": 52,
   "metadata": {
    "vscode": {
     "languageId": "r"
    }
   },
   "outputs": [
    {
     "data": {
      "text/html": [
       "<style>\n",
       ".list-inline {list-style: none; margin:0; padding: 0}\n",
       ".list-inline>li {display: inline-block}\n",
       ".list-inline>li:not(:last-child)::after {content: \"\\00b7\"; padding: 0 .5ex}\n",
       "</style>\n",
       "<ol class=list-inline><li>'X...sequence_name...'</li><li>'strain...'</li><li>'time_of_measurement..h.'</li><li>'fluorescence.value..AU.'</li><li>'outlier_status..logica.'</li></ol>\n"
      ],
      "text/latex": [
       "\\begin{enumerate*}\n",
       "\\item 'X...sequence\\_name...'\n",
       "\\item 'strain...'\n",
       "\\item 'time\\_of\\_measurement..h.'\n",
       "\\item 'fluorescence.value..AU.'\n",
       "\\item 'outlier\\_status..logica.'\n",
       "\\end{enumerate*}\n"
      ],
      "text/markdown": [
       "1. 'X...sequence_name...'\n",
       "2. 'strain...'\n",
       "3. 'time_of_measurement..h.'\n",
       "4. 'fluorescence.value..AU.'\n",
       "5. 'outlier_status..logica.'\n",
       "\n",
       "\n"
      ],
      "text/plain": [
       "[1] \"X...sequence_name...\"    \"strain...\"              \n",
       "[3] \"time_of_measurement..h.\" \"fluorescence.value..AU.\"\n",
       "[5] \"outlier_status..logica.\""
      ]
     },
     "metadata": {},
     "output_type": "display_data"
    }
   ],
   "source": [
    "names(data_gfp_zrinka)"
   ]
  },
  {
   "cell_type": "code",
   "execution_count": 53,
   "metadata": {
    "vscode": {
     "languageId": "r"
    }
   },
   "outputs": [],
   "source": [
    "# keep only 'X...sequence_name...', 'strain...' and 'fluorescence.value..AU.' columns\n",
    "data_gfp_zrinka <- data_gfp_zrinka[,c(1,2,4)]"
   ]
  },
  {
   "cell_type": "code",
   "execution_count": 54,
   "metadata": {
    "vscode": {
     "languageId": "r"
    }
   },
   "outputs": [],
   "source": [
    "# group by (sequence name, strain) and calculate mean fluorescence value\n",
    "data_gfp_zrinka <- aggregate(data_gfp_zrinka$fluorescence.value..AU., by = list(data_gfp_zrinka$X...sequence_name., data_gfp_zrinka$strain.), FUN = mean)"
   ]
  },
  {
   "cell_type": "code",
   "execution_count": 55,
   "metadata": {
    "vscode": {
     "languageId": "r"
    }
   },
   "outputs": [],
   "source": [
    "names(data_gfp_zrinka) <- c(\"sequence_name\", \"strain\", \"mean_fluorescence\")"
   ]
  },
  {
   "cell_type": "code",
   "execution_count": 56,
   "metadata": {
    "vscode": {
     "languageId": "r"
    }
   },
   "outputs": [],
   "source": [
    "# remove rows where sequence_name is pET28b_empty\n",
    "data_gfp_zrinka <- data_gfp_zrinka[data_gfp_zrinka$sequence_name != \"pET28b_empty\",]"
   ]
  },
  {
   "cell_type": "code",
   "execution_count": 57,
   "metadata": {
    "vscode": {
     "languageId": "r"
    }
   },
   "outputs": [
    {
     "data": {
      "text/html": [
       "<table class=\"dataframe\">\n",
       "<caption>A data.frame: 6 x 3</caption>\n",
       "<thead>\n",
       "\t<tr><th></th><th scope=col>sequence_name</th><th scope=col>strain</th><th scope=col>mean_fluorescence</th></tr>\n",
       "\t<tr><th></th><th scope=col>&lt;chr&gt;</th><th scope=col>&lt;chr&gt;</th><th scope=col>&lt;dbl&gt;</th></tr>\n",
       "</thead>\n",
       "<tbody>\n",
       "\t<tr><th scope=row>1</th><td>V015-wildtype         </td><td>BL21DE3</td><td>17098.38</td></tr>\n",
       "\t<tr><th scope=row>2</th><td>V016-AnaCoda          </td><td>BL21DE3</td><td>33182.50</td></tr>\n",
       "\t<tr><th scope=row>3</th><td>V017-GeneGA           </td><td>BL21DE3</td><td>33248.62</td></tr>\n",
       "\t<tr><th scope=row>4</th><td>V018-JCAT             </td><td>BL21DE3</td><td>32378.12</td></tr>\n",
       "\t<tr><th scope=row>5</th><td>V019-Twist (Variant 1)</td><td>BL21DE3</td><td>31469.88</td></tr>\n",
       "\t<tr><th scope=row>6</th><td>V020-Twist (Variant 2)</td><td>BL21DE3</td><td>26363.50</td></tr>\n",
       "</tbody>\n",
       "</table>\n"
      ],
      "text/latex": [
       "A data.frame: 6 x 3\n",
       "\\begin{tabular}{r|lll}\n",
       "  & sequence\\_name & strain & mean\\_fluorescence\\\\\n",
       "  & <chr> & <chr> & <dbl>\\\\\n",
       "\\hline\n",
       "\t1 & V015-wildtype          & BL21DE3 & 17098.38\\\\\n",
       "\t2 & V016-AnaCoda           & BL21DE3 & 33182.50\\\\\n",
       "\t3 & V017-GeneGA            & BL21DE3 & 33248.62\\\\\n",
       "\t4 & V018-JCAT              & BL21DE3 & 32378.12\\\\\n",
       "\t5 & V019-Twist (Variant 1) & BL21DE3 & 31469.88\\\\\n",
       "\t6 & V020-Twist (Variant 2) & BL21DE3 & 26363.50\\\\\n",
       "\\end{tabular}\n"
      ],
      "text/markdown": [
       "\n",
       "A data.frame: 6 x 3\n",
       "\n",
       "| <!--/--> | sequence_name &lt;chr&gt; | strain &lt;chr&gt; | mean_fluorescence &lt;dbl&gt; |\n",
       "|---|---|---|---|\n",
       "| 1 | V015-wildtype          | BL21DE3 | 17098.38 |\n",
       "| 2 | V016-AnaCoda           | BL21DE3 | 33182.50 |\n",
       "| 3 | V017-GeneGA            | BL21DE3 | 33248.62 |\n",
       "| 4 | V018-JCAT              | BL21DE3 | 32378.12 |\n",
       "| 5 | V019-Twist (Variant 1) | BL21DE3 | 31469.88 |\n",
       "| 6 | V020-Twist (Variant 2) | BL21DE3 | 26363.50 |\n",
       "\n"
      ],
      "text/plain": [
       "  sequence_name          strain  mean_fluorescence\n",
       "1 V015-wildtype          BL21DE3 17098.38         \n",
       "2 V016-AnaCoda           BL21DE3 33182.50         \n",
       "3 V017-GeneGA            BL21DE3 33248.62         \n",
       "4 V018-JCAT              BL21DE3 32378.12         \n",
       "5 V019-Twist (Variant 1) BL21DE3 31469.88         \n",
       "6 V020-Twist (Variant 2) BL21DE3 26363.50         "
      ]
     },
     "metadata": {},
     "output_type": "display_data"
    }
   ],
   "source": [
    "head(data_gfp_zrinka)"
   ]
  },
  {
   "attachments": {},
   "cell_type": "markdown",
   "metadata": {},
   "source": [
    "Random model for comparison"
   ]
  },
  {
   "cell_type": "code",
   "execution_count": 58,
   "metadata": {
    "vscode": {
     "languageId": "r"
    }
   },
   "outputs": [],
   "source": [
    "# Random model\n",
    "random_model <- data_gfp_zrinka\n",
    "# generate random fluorescence values for each sequence and strain\n",
    "random_model$predicted_level <- runif(nrow(data_gfp_zrinka), min = 0, max = 40000)"
   ]
  },
  {
   "cell_type": "code",
   "execution_count": 59,
   "metadata": {
    "vscode": {
     "languageId": "r"
    }
   },
   "outputs": [
    {
     "data": {
      "text/html": [
       "<table class=\"dataframe\">\n",
       "<caption>A data.frame: 6 x 4</caption>\n",
       "<thead>\n",
       "\t<tr><th></th><th scope=col>sequence_name</th><th scope=col>strain</th><th scope=col>mean_fluorescence</th><th scope=col>predicted_level</th></tr>\n",
       "\t<tr><th></th><th scope=col>&lt;chr&gt;</th><th scope=col>&lt;chr&gt;</th><th scope=col>&lt;dbl&gt;</th><th scope=col>&lt;dbl&gt;</th></tr>\n",
       "</thead>\n",
       "<tbody>\n",
       "\t<tr><th scope=row>1</th><td>V015-wildtype         </td><td>BL21DE3</td><td>17098.38</td><td> 5327.00</td></tr>\n",
       "\t<tr><th scope=row>2</th><td>V016-AnaCoda          </td><td>BL21DE3</td><td>33182.50</td><td>24653.93</td></tr>\n",
       "\t<tr><th scope=row>3</th><td>V017-GeneGA           </td><td>BL21DE3</td><td>33248.62</td><td>10679.42</td></tr>\n",
       "\t<tr><th scope=row>4</th><td>V018-JCAT             </td><td>BL21DE3</td><td>32378.12</td><td>15449.10</td></tr>\n",
       "\t<tr><th scope=row>5</th><td>V019-Twist (Variant 1)</td><td>BL21DE3</td><td>31469.88</td><td>27054.39</td></tr>\n",
       "\t<tr><th scope=row>6</th><td>V020-Twist (Variant 2)</td><td>BL21DE3</td><td>26363.50</td><td>16778.21</td></tr>\n",
       "</tbody>\n",
       "</table>\n"
      ],
      "text/latex": [
       "A data.frame: 6 x 4\n",
       "\\begin{tabular}{r|llll}\n",
       "  & sequence\\_name & strain & mean\\_fluorescence & predicted\\_level\\\\\n",
       "  & <chr> & <chr> & <dbl> & <dbl>\\\\\n",
       "\\hline\n",
       "\t1 & V015-wildtype          & BL21DE3 & 17098.38 &  5327.00\\\\\n",
       "\t2 & V016-AnaCoda           & BL21DE3 & 33182.50 & 24653.93\\\\\n",
       "\t3 & V017-GeneGA            & BL21DE3 & 33248.62 & 10679.42\\\\\n",
       "\t4 & V018-JCAT              & BL21DE3 & 32378.12 & 15449.10\\\\\n",
       "\t5 & V019-Twist (Variant 1) & BL21DE3 & 31469.88 & 27054.39\\\\\n",
       "\t6 & V020-Twist (Variant 2) & BL21DE3 & 26363.50 & 16778.21\\\\\n",
       "\\end{tabular}\n"
      ],
      "text/markdown": [
       "\n",
       "A data.frame: 6 x 4\n",
       "\n",
       "| <!--/--> | sequence_name &lt;chr&gt; | strain &lt;chr&gt; | mean_fluorescence &lt;dbl&gt; | predicted_level &lt;dbl&gt; |\n",
       "|---|---|---|---|---|\n",
       "| 1 | V015-wildtype          | BL21DE3 | 17098.38 |  5327.00 |\n",
       "| 2 | V016-AnaCoda           | BL21DE3 | 33182.50 | 24653.93 |\n",
       "| 3 | V017-GeneGA            | BL21DE3 | 33248.62 | 10679.42 |\n",
       "| 4 | V018-JCAT              | BL21DE3 | 32378.12 | 15449.10 |\n",
       "| 5 | V019-Twist (Variant 1) | BL21DE3 | 31469.88 | 27054.39 |\n",
       "| 6 | V020-Twist (Variant 2) | BL21DE3 | 26363.50 | 16778.21 |\n",
       "\n"
      ],
      "text/plain": [
       "  sequence_name          strain  mean_fluorescence predicted_level\n",
       "1 V015-wildtype          BL21DE3 17098.38           5327.00       \n",
       "2 V016-AnaCoda           BL21DE3 33182.50          24653.93       \n",
       "3 V017-GeneGA            BL21DE3 33248.62          10679.42       \n",
       "4 V018-JCAT              BL21DE3 32378.12          15449.10       \n",
       "5 V019-Twist (Variant 1) BL21DE3 31469.88          27054.39       \n",
       "6 V020-Twist (Variant 2) BL21DE3 26363.50          16778.21       "
      ]
     },
     "metadata": {},
     "output_type": "display_data"
    }
   ],
   "source": [
    "head(random_model)"
   ]
  },
  {
   "attachments": {},
   "cell_type": "markdown",
   "metadata": {},
   "source": [
    "## Define metrics"
   ]
  },
  {
   "cell_type": "code",
   "execution_count": 60,
   "metadata": {
    "vscode": {
     "languageId": "r"
    }
   },
   "outputs": [],
   "source": [
    "correlation <- function(model, gt_col = \"mean_fluorescence\"){\n",
    "    cor(model[,gt_col], model$predicted_level)\n",
    "}"
   ]
  },
  {
   "cell_type": "code",
   "execution_count": 61,
   "metadata": {
    "vscode": {
     "languageId": "r"
    }
   },
   "outputs": [],
   "source": [
    "r_squared <- function(model, gt_col = \"mean_fluorescence\"){\n",
    "    summary(lm(model[,gt_col] ~ model$predicted_level))$r.squared\n",
    "}"
   ]
  },
  {
   "cell_type": "code",
   "execution_count": 62,
   "metadata": {
    "vscode": {
     "languageId": "r"
    }
   },
   "outputs": [],
   "source": [
    "mae <- function(model, gt_col = \"mean_fluorescence\"){\n",
    "    mean(abs(model[,gt_col] - model$predicted_level))\n",
    "}"
   ]
  },
  {
   "cell_type": "code",
   "execution_count": 63,
   "metadata": {
    "vscode": {
     "languageId": "r"
    }
   },
   "outputs": [],
   "source": [
    "rmse <- function(model, gt_col = \"mean_fluorescence\"){\n",
    "    sqrt(mean((model[,gt_col] - model$predicted_level)^2))\n",
    "}"
   ]
  },
  {
   "attachments": {},
   "cell_type": "markdown",
   "metadata": {},
   "source": [
    "### Compute metrics"
   ]
  },
  {
   "cell_type": "code",
   "execution_count": 64,
   "metadata": {
    "vscode": {
     "languageId": "r"
    }
   },
   "outputs": [],
   "source": [
    "# create dataframe for storing results for each model\n",
    "results <- data.frame(model = character(), correlation = numeric(), r_squared = numeric(), mae = numeric(), rmse = numeric(), stringsAsFactors = FALSE)"
   ]
  },
  {
   "attachments": {},
   "cell_type": "markdown",
   "metadata": {},
   "source": [
    "#### Random"
   ]
  },
  {
   "cell_type": "code",
   "execution_count": 65,
   "metadata": {
    "vscode": {
     "languageId": "r"
    }
   },
   "outputs": [],
   "source": [
    "# add results on all metrics for random model as new row in results dataframe\n",
    "results <- rbind(results, c(\"random\", correlation(random_model), r_squared(random_model), mae(random_model), rmse(random_model)))"
   ]
  },
  {
   "cell_type": "code",
   "execution_count": 66,
   "metadata": {
    "vscode": {
     "languageId": "r"
    }
   },
   "outputs": [],
   "source": [
    "names(results) <- c(\"model\", \"correlation\", \"r_squared\", \"mae\", \"rmse\")"
   ]
  },
  {
   "cell_type": "code",
   "execution_count": 67,
   "metadata": {
    "vscode": {
     "languageId": "r"
    }
   },
   "outputs": [
    {
     "data": {
      "text/html": [
       "<table class=\"dataframe\">\n",
       "<caption>A data.frame: 1 x 5</caption>\n",
       "<thead>\n",
       "\t<tr><th scope=col>model</th><th scope=col>correlation</th><th scope=col>r_squared</th><th scope=col>mae</th><th scope=col>rmse</th></tr>\n",
       "\t<tr><th scope=col>&lt;chr&gt;</th><th scope=col>&lt;chr&gt;</th><th scope=col>&lt;chr&gt;</th><th scope=col>&lt;chr&gt;</th><th scope=col>&lt;chr&gt;</th></tr>\n",
       "</thead>\n",
       "<tbody>\n",
       "\t<tr><td>random</td><td>-0.255847154044229</td><td>0.0654577662325313</td><td>14422.703458968</td><td>16521.1669432497</td></tr>\n",
       "</tbody>\n",
       "</table>\n"
      ],
      "text/latex": [
       "A data.frame: 1 x 5\n",
       "\\begin{tabular}{lllll}\n",
       " model & correlation & r\\_squared & mae & rmse\\\\\n",
       " <chr> & <chr> & <chr> & <chr> & <chr>\\\\\n",
       "\\hline\n",
       "\t random & -0.255847154044229 & 0.0654577662325313 & 14422.703458968 & 16521.1669432497\\\\\n",
       "\\end{tabular}\n"
      ],
      "text/markdown": [
       "\n",
       "A data.frame: 1 x 5\n",
       "\n",
       "| model &lt;chr&gt; | correlation &lt;chr&gt; | r_squared &lt;chr&gt; | mae &lt;chr&gt; | rmse &lt;chr&gt; |\n",
       "|---|---|---|---|---|\n",
       "| random | -0.255847154044229 | 0.0654577662325313 | 14422.703458968 | 16521.1669432497 |\n",
       "\n"
      ],
      "text/plain": [
       "  model  correlation        r_squared          mae             rmse            \n",
       "1 random -0.255847154044229 0.0654577662325313 14422.703458968 16521.1669432497"
      ]
     },
     "metadata": {},
     "output_type": "display_data"
    }
   ],
   "source": [
    "results"
   ]
  },
  {
   "attachments": {},
   "cell_type": "markdown",
   "metadata": {},
   "source": [
    "#### Efficacy with mean values"
   ]
  },
  {
   "cell_type": "code",
   "execution_count": 68,
   "metadata": {
    "vscode": {
     "languageId": "r"
    }
   },
   "outputs": [
    {
     "data": {
      "text/html": [
       "<style>\n",
       ".list-inline {list-style: none; margin:0; padding: 0}\n",
       ".list-inline>li {display: inline-block}\n",
       ".list-inline>li:not(:last-child)::after {content: \"\\00b7\"; padding: 0 .5ex}\n",
       "</style>\n",
       "<ol class=list-inline><li>'sequence_name'</li><li>'strain'</li><li>'mean_fluorescence'</li><li>'predicted_level'</li></ol>\n"
      ],
      "text/latex": [
       "\\begin{enumerate*}\n",
       "\\item 'sequence\\_name'\n",
       "\\item 'strain'\n",
       "\\item 'mean\\_fluorescence'\n",
       "\\item 'predicted\\_level'\n",
       "\\end{enumerate*}\n"
      ],
      "text/markdown": [
       "1. 'sequence_name'\n",
       "2. 'strain'\n",
       "3. 'mean_fluorescence'\n",
       "4. 'predicted_level'\n",
       "\n",
       "\n"
      ],
      "text/plain": [
       "[1] \"sequence_name\"     \"strain\"            \"mean_fluorescence\"\n",
       "[4] \"predicted_level\"  "
      ]
     },
     "metadata": {},
     "output_type": "display_data"
    }
   ],
   "source": [
    "#read file data_gfp_zrinka_predicted_efficiency.csv\n",
    "efficacy_model <- read.csv(\"data_gfp_zrinka_predicted_efficiency_averaged.csv\", header = TRUE, sep = \",\")\n",
    "names(efficacy_model)"
   ]
  },
  {
   "cell_type": "code",
   "execution_count": 69,
   "metadata": {
    "vscode": {
     "languageId": "r"
    }
   },
   "outputs": [],
   "source": [
    "results <- rbind(results, c(\"efficacy averaged\", correlation(efficacy_model), r_squared(efficacy_model), mae(efficacy_model), rmse(efficacy_model)))"
   ]
  },
  {
   "cell_type": "code",
   "execution_count": 70,
   "metadata": {
    "vscode": {
     "languageId": "r"
    }
   },
   "outputs": [
    {
     "data": {
      "text/html": [
       "<table class=\"dataframe\">\n",
       "<caption>A data.frame: 2 x 5</caption>\n",
       "<thead>\n",
       "\t<tr><th scope=col>model</th><th scope=col>correlation</th><th scope=col>r_squared</th><th scope=col>mae</th><th scope=col>rmse</th></tr>\n",
       "\t<tr><th scope=col>&lt;chr&gt;</th><th scope=col>&lt;chr&gt;</th><th scope=col>&lt;chr&gt;</th><th scope=col>&lt;chr&gt;</th><th scope=col>&lt;chr&gt;</th></tr>\n",
       "</thead>\n",
       "<tbody>\n",
       "\t<tr><td>random           </td><td>-0.255847154044229</td><td>0.0654577662325313</td><td>14422.703458968 </td><td>16521.1669432497</td></tr>\n",
       "\t<tr><td>efficacy averaged</td><td>0.697063277094304 </td><td>0.485897212273451 </td><td>6490.55924593995</td><td>7546.13134273863</td></tr>\n",
       "</tbody>\n",
       "</table>\n"
      ],
      "text/latex": [
       "A data.frame: 2 x 5\n",
       "\\begin{tabular}{lllll}\n",
       " model & correlation & r\\_squared & mae & rmse\\\\\n",
       " <chr> & <chr> & <chr> & <chr> & <chr>\\\\\n",
       "\\hline\n",
       "\t random            & -0.255847154044229 & 0.0654577662325313 & 14422.703458968  & 16521.1669432497\\\\\n",
       "\t efficacy averaged & 0.697063277094304  & 0.485897212273451  & 6490.55924593995 & 7546.13134273863\\\\\n",
       "\\end{tabular}\n"
      ],
      "text/markdown": [
       "\n",
       "A data.frame: 2 x 5\n",
       "\n",
       "| model &lt;chr&gt; | correlation &lt;chr&gt; | r_squared &lt;chr&gt; | mae &lt;chr&gt; | rmse &lt;chr&gt; |\n",
       "|---|---|---|---|---|\n",
       "| random            | -0.255847154044229 | 0.0654577662325313 | 14422.703458968  | 16521.1669432497 |\n",
       "| efficacy averaged | 0.697063277094304  | 0.485897212273451  | 6490.55924593995 | 7546.13134273863 |\n",
       "\n"
      ],
      "text/plain": [
       "  model             correlation        r_squared          mae             \n",
       "1 random            -0.255847154044229 0.0654577662325313 14422.703458968 \n",
       "2 efficacy averaged 0.697063277094304  0.485897212273451  6490.55924593995\n",
       "  rmse            \n",
       "1 16521.1669432497\n",
       "2 7546.13134273863"
      ]
     },
     "metadata": {},
     "output_type": "display_data"
    }
   ],
   "source": [
    "results"
   ]
  },
  {
   "attachments": {},
   "cell_type": "markdown",
   "metadata": {},
   "source": [
    "#### Efficacy with values not averaged"
   ]
  },
  {
   "cell_type": "code",
   "execution_count": 71,
   "metadata": {
    "vscode": {
     "languageId": "r"
    }
   },
   "outputs": [],
   "source": [
    "#read file data_gfp_zrinka_predicted_efficiency.csv\n",
    "efficacy_values_model <- read.csv(\"data_gfp_zrinka_predicted_efficiency.csv\", header = TRUE, sep = \",\")"
   ]
  },
  {
   "cell_type": "code",
   "execution_count": 72,
   "metadata": {
    "vscode": {
     "languageId": "r"
    }
   },
   "outputs": [],
   "source": [
    "results <- rbind(results, c(\"efficacy with values\", correlation(efficacy_values_model, \"value\"), r_squared(efficacy_values_model, \"value\"), mae(efficacy_values_model, \"value\"), rmse(efficacy_values_model, \"value\")))"
   ]
  },
  {
   "cell_type": "code",
   "execution_count": 73,
   "metadata": {
    "vscode": {
     "languageId": "r"
    }
   },
   "outputs": [
    {
     "data": {
      "text/html": [
       "<table class=\"dataframe\">\n",
       "<caption>A data.frame: 3 x 5</caption>\n",
       "<thead>\n",
       "\t<tr><th scope=col>model</th><th scope=col>correlation</th><th scope=col>r_squared</th><th scope=col>mae</th><th scope=col>rmse</th></tr>\n",
       "\t<tr><th scope=col>&lt;chr&gt;</th><th scope=col>&lt;chr&gt;</th><th scope=col>&lt;chr&gt;</th><th scope=col>&lt;chr&gt;</th><th scope=col>&lt;chr&gt;</th></tr>\n",
       "</thead>\n",
       "<tbody>\n",
       "\t<tr><td>random              </td><td>-0.255847154044229</td><td>0.0654577662325313</td><td>14422.703458968 </td><td>16521.1669432497</td></tr>\n",
       "\t<tr><td>efficacy averaged   </td><td>0.697063277094304 </td><td>0.485897212273451 </td><td>6490.55924593995</td><td>7546.13134273863</td></tr>\n",
       "\t<tr><td>efficacy with values</td><td>0.66927686160308  </td><td>0.447931517477269 </td><td>6633.50162672675</td><td>7807.90200974659</td></tr>\n",
       "</tbody>\n",
       "</table>\n"
      ],
      "text/latex": [
       "A data.frame: 3 x 5\n",
       "\\begin{tabular}{lllll}\n",
       " model & correlation & r\\_squared & mae & rmse\\\\\n",
       " <chr> & <chr> & <chr> & <chr> & <chr>\\\\\n",
       "\\hline\n",
       "\t random               & -0.255847154044229 & 0.0654577662325313 & 14422.703458968  & 16521.1669432497\\\\\n",
       "\t efficacy averaged    & 0.697063277094304  & 0.485897212273451  & 6490.55924593995 & 7546.13134273863\\\\\n",
       "\t efficacy with values & 0.66927686160308   & 0.447931517477269  & 6633.50162672675 & 7807.90200974659\\\\\n",
       "\\end{tabular}\n"
      ],
      "text/markdown": [
       "\n",
       "A data.frame: 3 x 5\n",
       "\n",
       "| model &lt;chr&gt; | correlation &lt;chr&gt; | r_squared &lt;chr&gt; | mae &lt;chr&gt; | rmse &lt;chr&gt; |\n",
       "|---|---|---|---|---|\n",
       "| random               | -0.255847154044229 | 0.0654577662325313 | 14422.703458968  | 16521.1669432497 |\n",
       "| efficacy averaged    | 0.697063277094304  | 0.485897212273451  | 6490.55924593995 | 7546.13134273863 |\n",
       "| efficacy with values | 0.66927686160308   | 0.447931517477269  | 6633.50162672675 | 7807.90200974659 |\n",
       "\n"
      ],
      "text/plain": [
       "  model                correlation        r_squared          mae             \n",
       "1 random               -0.255847154044229 0.0654577662325313 14422.703458968 \n",
       "2 efficacy averaged    0.697063277094304  0.485897212273451  6490.55924593995\n",
       "3 efficacy with values 0.66927686160308   0.447931517477269  6633.50162672675\n",
       "  rmse            \n",
       "1 16521.1669432497\n",
       "2 7546.13134273863\n",
       "3 7807.90200974659"
      ]
     },
     "metadata": {},
     "output_type": "display_data"
    }
   ],
   "source": [
    "results"
   ]
  },
  {
   "attachments": {},
   "cell_type": "markdown",
   "metadata": {},
   "source": [
    "#### Efficacy K12 strain set"
   ]
  },
  {
   "cell_type": "code",
   "execution_count": 74,
   "metadata": {
    "vscode": {
     "languageId": "r"
    }
   },
   "outputs": [],
   "source": [
    "# read file data_gfp_zrinka_predicted_accuracy.csv\n",
    "efficacy_model_k12 <- read.csv(\"data_gfp_zrinka_predicted_efficiency_k12.csv\", header = TRUE, sep = \",\")"
   ]
  },
  {
   "cell_type": "code",
   "execution_count": 75,
   "metadata": {
    "vscode": {
     "languageId": "r"
    }
   },
   "outputs": [
    {
     "data": {
      "text/html": [
       "<style>\n",
       ".list-inline {list-style: none; margin:0; padding: 0}\n",
       ".list-inline>li {display: inline-block}\n",
       ".list-inline>li:not(:last-child)::after {content: \"\\00b7\"; padding: 0 .5ex}\n",
       "</style>\n",
       "<ol class=list-inline><li>'sequence_name'</li><li>'strain'</li><li>'value'</li><li>'predicted_level'</li></ol>\n"
      ],
      "text/latex": [
       "\\begin{enumerate*}\n",
       "\\item 'sequence\\_name'\n",
       "\\item 'strain'\n",
       "\\item 'value'\n",
       "\\item 'predicted\\_level'\n",
       "\\end{enumerate*}\n"
      ],
      "text/markdown": [
       "1. 'sequence_name'\n",
       "2. 'strain'\n",
       "3. 'value'\n",
       "4. 'predicted_level'\n",
       "\n",
       "\n"
      ],
      "text/plain": [
       "[1] \"sequence_name\"   \"strain\"          \"value\"           \"predicted_level\""
      ]
     },
     "metadata": {},
     "output_type": "display_data"
    }
   ],
   "source": [
    "names(efficacy_model_k12)"
   ]
  },
  {
   "cell_type": "code",
   "execution_count": 76,
   "metadata": {
    "vscode": {
     "languageId": "r"
    }
   },
   "outputs": [],
   "source": [
    "results <- rbind(results, c(\"efficacy averaged k12\", correlation(efficacy_model_k12, \"value\"), r_squared(efficacy_model_k12, \"value\"), mae(efficacy_model_k12, \"value\"), rmse(efficacy_model_k12, \"value\")))"
   ]
  },
  {
   "cell_type": "code",
   "execution_count": 77,
   "metadata": {
    "vscode": {
     "languageId": "r"
    }
   },
   "outputs": [
    {
     "data": {
      "text/html": [
       "<table class=\"dataframe\">\n",
       "<caption>A data.frame: 4 x 5</caption>\n",
       "<thead>\n",
       "\t<tr><th scope=col>model</th><th scope=col>correlation</th><th scope=col>r_squared</th><th scope=col>mae</th><th scope=col>rmse</th></tr>\n",
       "\t<tr><th scope=col>&lt;chr&gt;</th><th scope=col>&lt;chr&gt;</th><th scope=col>&lt;chr&gt;</th><th scope=col>&lt;chr&gt;</th><th scope=col>&lt;chr&gt;</th></tr>\n",
       "</thead>\n",
       "<tbody>\n",
       "\t<tr><td>random               </td><td>-0.255847154044229</td><td>0.0654577662325313</td><td>14422.703458968 </td><td>16521.1669432497</td></tr>\n",
       "\t<tr><td>efficacy averaged    </td><td>0.697063277094304 </td><td>0.485897212273451 </td><td>6490.55924593995</td><td>7546.13134273863</td></tr>\n",
       "\t<tr><td>efficacy with values </td><td>0.66927686160308  </td><td>0.447931517477269 </td><td>6633.50162672675</td><td>7807.90200974659</td></tr>\n",
       "\t<tr><td>efficacy averaged k12</td><td>0.621820720146541 </td><td>0.386661008003563 </td><td>3530.59047248711</td><td>4479.10427947054</td></tr>\n",
       "</tbody>\n",
       "</table>\n"
      ],
      "text/latex": [
       "A data.frame: 4 x 5\n",
       "\\begin{tabular}{lllll}\n",
       " model & correlation & r\\_squared & mae & rmse\\\\\n",
       " <chr> & <chr> & <chr> & <chr> & <chr>\\\\\n",
       "\\hline\n",
       "\t random                & -0.255847154044229 & 0.0654577662325313 & 14422.703458968  & 16521.1669432497\\\\\n",
       "\t efficacy averaged     & 0.697063277094304  & 0.485897212273451  & 6490.55924593995 & 7546.13134273863\\\\\n",
       "\t efficacy with values  & 0.66927686160308   & 0.447931517477269  & 6633.50162672675 & 7807.90200974659\\\\\n",
       "\t efficacy averaged k12 & 0.621820720146541  & 0.386661008003563  & 3530.59047248711 & 4479.10427947054\\\\\n",
       "\\end{tabular}\n"
      ],
      "text/markdown": [
       "\n",
       "A data.frame: 4 x 5\n",
       "\n",
       "| model &lt;chr&gt; | correlation &lt;chr&gt; | r_squared &lt;chr&gt; | mae &lt;chr&gt; | rmse &lt;chr&gt; |\n",
       "|---|---|---|---|---|\n",
       "| random                | -0.255847154044229 | 0.0654577662325313 | 14422.703458968  | 16521.1669432497 |\n",
       "| efficacy averaged     | 0.697063277094304  | 0.485897212273451  | 6490.55924593995 | 7546.13134273863 |\n",
       "| efficacy with values  | 0.66927686160308   | 0.447931517477269  | 6633.50162672675 | 7807.90200974659 |\n",
       "| efficacy averaged k12 | 0.621820720146541  | 0.386661008003563  | 3530.59047248711 | 4479.10427947054 |\n",
       "\n"
      ],
      "text/plain": [
       "  model                 correlation        r_squared          mae             \n",
       "1 random                -0.255847154044229 0.0654577662325313 14422.703458968 \n",
       "2 efficacy averaged     0.697063277094304  0.485897212273451  6490.55924593995\n",
       "3 efficacy with values  0.66927686160308   0.447931517477269  6633.50162672675\n",
       "4 efficacy averaged k12 0.621820720146541  0.386661008003563  3530.59047248711\n",
       "  rmse            \n",
       "1 16521.1669432497\n",
       "2 7546.13134273863\n",
       "3 7807.90200974659\n",
       "4 4479.10427947054"
      ]
     },
     "metadata": {},
     "output_type": "display_data"
    }
   ],
   "source": [
    "results"
   ]
  },
  {
   "attachments": {},
   "cell_type": "markdown",
   "metadata": {},
   "source": [
    "#### Efficiency BL21DE3 strain set"
   ]
  },
  {
   "cell_type": "code",
   "execution_count": 78,
   "metadata": {
    "vscode": {
     "languageId": "r"
    }
   },
   "outputs": [],
   "source": [
    "# read file data_gfp_zrinka_predicted_accuracy.csv\n",
    "efficacy_model_bl21 <- read.csv(\"data_gfp_zrinka_predicted_efficiency_bl21.csv\", header = TRUE, sep = \",\")"
   ]
  },
  {
   "cell_type": "code",
   "execution_count": 79,
   "metadata": {
    "vscode": {
     "languageId": "r"
    }
   },
   "outputs": [
    {
     "data": {
      "text/html": [
       "<style>\n",
       ".list-inline {list-style: none; margin:0; padding: 0}\n",
       ".list-inline>li {display: inline-block}\n",
       ".list-inline>li:not(:last-child)::after {content: \"\\00b7\"; padding: 0 .5ex}\n",
       "</style>\n",
       "<ol class=list-inline><li>'sequence_name'</li><li>'strain'</li><li>'value'</li><li>'predicted_level'</li></ol>\n"
      ],
      "text/latex": [
       "\\begin{enumerate*}\n",
       "\\item 'sequence\\_name'\n",
       "\\item 'strain'\n",
       "\\item 'value'\n",
       "\\item 'predicted\\_level'\n",
       "\\end{enumerate*}\n"
      ],
      "text/markdown": [
       "1. 'sequence_name'\n",
       "2. 'strain'\n",
       "3. 'value'\n",
       "4. 'predicted_level'\n",
       "\n",
       "\n"
      ],
      "text/plain": [
       "[1] \"sequence_name\"   \"strain\"          \"value\"           \"predicted_level\""
      ]
     },
     "metadata": {},
     "output_type": "display_data"
    }
   ],
   "source": [
    "names(efficacy_model_bl21)"
   ]
  },
  {
   "cell_type": "code",
   "execution_count": 80,
   "metadata": {
    "vscode": {
     "languageId": "r"
    }
   },
   "outputs": [],
   "source": [
    "results <- rbind(results, c(\"efficacy averaged bl21\", correlation(efficacy_model_bl21, \"value\"), r_squared(efficacy_model_bl21, \"value\"), mae(efficacy_model_bl21, \"value\"), rmse(efficacy_model_bl21, \"value\")))"
   ]
  },
  {
   "cell_type": "code",
   "execution_count": 81,
   "metadata": {
    "vscode": {
     "languageId": "r"
    }
   },
   "outputs": [
    {
     "data": {
      "text/html": [
       "<table class=\"dataframe\">\n",
       "<caption>A data.frame: 5 x 5</caption>\n",
       "<thead>\n",
       "\t<tr><th scope=col>model</th><th scope=col>correlation</th><th scope=col>r_squared</th><th scope=col>mae</th><th scope=col>rmse</th></tr>\n",
       "\t<tr><th scope=col>&lt;chr&gt;</th><th scope=col>&lt;chr&gt;</th><th scope=col>&lt;chr&gt;</th><th scope=col>&lt;chr&gt;</th><th scope=col>&lt;chr&gt;</th></tr>\n",
       "</thead>\n",
       "<tbody>\n",
       "\t<tr><td>random                </td><td>-0.255847154044229</td><td>0.0654577662325313</td><td>14422.703458968 </td><td>16521.1669432497</td></tr>\n",
       "\t<tr><td>efficacy averaged     </td><td>0.697063277094304 </td><td>0.485897212273451 </td><td>6490.55924593995</td><td>7546.13134273863</td></tr>\n",
       "\t<tr><td>efficacy with values  </td><td>0.66927686160308  </td><td>0.447931517477269 </td><td>6633.50162672675</td><td>7807.90200974659</td></tr>\n",
       "\t<tr><td>efficacy averaged k12 </td><td>0.621820720146541 </td><td>0.386661008003563 </td><td>3530.59047248711</td><td>4479.10427947054</td></tr>\n",
       "\t<tr><td>efficacy averaged bl21</td><td>0.455880002455986 </td><td>0.207826576639269 </td><td>8522.23015539435</td><td>9266.04389652038</td></tr>\n",
       "</tbody>\n",
       "</table>\n"
      ],
      "text/latex": [
       "A data.frame: 5 x 5\n",
       "\\begin{tabular}{lllll}\n",
       " model & correlation & r\\_squared & mae & rmse\\\\\n",
       " <chr> & <chr> & <chr> & <chr> & <chr>\\\\\n",
       "\\hline\n",
       "\t random                 & -0.255847154044229 & 0.0654577662325313 & 14422.703458968  & 16521.1669432497\\\\\n",
       "\t efficacy averaged      & 0.697063277094304  & 0.485897212273451  & 6490.55924593995 & 7546.13134273863\\\\\n",
       "\t efficacy with values   & 0.66927686160308   & 0.447931517477269  & 6633.50162672675 & 7807.90200974659\\\\\n",
       "\t efficacy averaged k12  & 0.621820720146541  & 0.386661008003563  & 3530.59047248711 & 4479.10427947054\\\\\n",
       "\t efficacy averaged bl21 & 0.455880002455986  & 0.207826576639269  & 8522.23015539435 & 9266.04389652038\\\\\n",
       "\\end{tabular}\n"
      ],
      "text/markdown": [
       "\n",
       "A data.frame: 5 x 5\n",
       "\n",
       "| model &lt;chr&gt; | correlation &lt;chr&gt; | r_squared &lt;chr&gt; | mae &lt;chr&gt; | rmse &lt;chr&gt; |\n",
       "|---|---|---|---|---|\n",
       "| random                 | -0.255847154044229 | 0.0654577662325313 | 14422.703458968  | 16521.1669432497 |\n",
       "| efficacy averaged      | 0.697063277094304  | 0.485897212273451  | 6490.55924593995 | 7546.13134273863 |\n",
       "| efficacy with values   | 0.66927686160308   | 0.447931517477269  | 6633.50162672675 | 7807.90200974659 |\n",
       "| efficacy averaged k12  | 0.621820720146541  | 0.386661008003563  | 3530.59047248711 | 4479.10427947054 |\n",
       "| efficacy averaged bl21 | 0.455880002455986  | 0.207826576639269  | 8522.23015539435 | 9266.04389652038 |\n",
       "\n"
      ],
      "text/plain": [
       "  model                  correlation        r_squared          mae             \n",
       "1 random                 -0.255847154044229 0.0654577662325313 14422.703458968 \n",
       "2 efficacy averaged      0.697063277094304  0.485897212273451  6490.55924593995\n",
       "3 efficacy with values   0.66927686160308   0.447931517477269  6633.50162672675\n",
       "4 efficacy averaged k12  0.621820720146541  0.386661008003563  3530.59047248711\n",
       "5 efficacy averaged bl21 0.455880002455986  0.207826576639269  8522.23015539435\n",
       "  rmse            \n",
       "1 16521.1669432497\n",
       "2 7546.13134273863\n",
       "3 7807.90200974659\n",
       "4 4479.10427947054\n",
       "5 9266.04389652038"
      ]
     },
     "metadata": {},
     "output_type": "display_data"
    }
   ],
   "source": [
    "results"
   ]
  },
  {
   "attachments": {},
   "cell_type": "markdown",
   "metadata": {},
   "source": [
    "#### Accuracy with mean values"
   ]
  },
  {
   "cell_type": "code",
   "execution_count": 82,
   "metadata": {
    "vscode": {
     "languageId": "r"
    }
   },
   "outputs": [],
   "source": [
    "# read file data_gfp_zrinka_predicted_accuracy.csv\n",
    "accuracy_model_averaged <- read.csv(\"dataframes/accuracy/accuracy_model_predictions_averaged.csv\", header = TRUE, sep = \",\")"
   ]
  },
  {
   "cell_type": "code",
   "execution_count": 83,
   "metadata": {
    "vscode": {
     "languageId": "r"
    }
   },
   "outputs": [
    {
     "data": {
      "text/html": [
       "<style>\n",
       ".list-inline {list-style: none; margin:0; padding: 0}\n",
       ".list-inline>li {display: inline-block}\n",
       ".list-inline>li:not(:last-child)::after {content: \"\\00b7\"; padding: 0 .5ex}\n",
       "</style>\n",
       "<ol class=list-inline><li>'sequence_name'</li><li>'strain'</li><li>'mean_fluorescence'</li><li>'predicted_level'</li></ol>\n"
      ],
      "text/latex": [
       "\\begin{enumerate*}\n",
       "\\item 'sequence\\_name'\n",
       "\\item 'strain'\n",
       "\\item 'mean\\_fluorescence'\n",
       "\\item 'predicted\\_level'\n",
       "\\end{enumerate*}\n"
      ],
      "text/markdown": [
       "1. 'sequence_name'\n",
       "2. 'strain'\n",
       "3. 'mean_fluorescence'\n",
       "4. 'predicted_level'\n",
       "\n",
       "\n"
      ],
      "text/plain": [
       "[1] \"sequence_name\"     \"strain\"            \"mean_fluorescence\"\n",
       "[4] \"predicted_level\"  "
      ]
     },
     "metadata": {},
     "output_type": "display_data"
    }
   ],
   "source": [
    "names(accuracy_model_averaged)"
   ]
  },
  {
   "cell_type": "code",
   "execution_count": 84,
   "metadata": {
    "vscode": {
     "languageId": "r"
    }
   },
   "outputs": [],
   "source": [
    "results <- rbind(results, c(\"accuracy averaged\", correlation(accuracy_model_averaged), r_squared(accuracy_model_averaged), mae(accuracy_model_averaged), rmse(accuracy_model_averaged)))"
   ]
  },
  {
   "cell_type": "code",
   "execution_count": 85,
   "metadata": {
    "vscode": {
     "languageId": "r"
    }
   },
   "outputs": [
    {
     "data": {
      "text/html": [
       "<table class=\"dataframe\">\n",
       "<caption>A data.frame: 6 x 5</caption>\n",
       "<thead>\n",
       "\t<tr><th scope=col>model</th><th scope=col>correlation</th><th scope=col>r_squared</th><th scope=col>mae</th><th scope=col>rmse</th></tr>\n",
       "\t<tr><th scope=col>&lt;chr&gt;</th><th scope=col>&lt;chr&gt;</th><th scope=col>&lt;chr&gt;</th><th scope=col>&lt;chr&gt;</th><th scope=col>&lt;chr&gt;</th></tr>\n",
       "</thead>\n",
       "<tbody>\n",
       "\t<tr><td>random                </td><td>-0.255847154044229</td><td>0.0654577662325313</td><td>14422.703458968 </td><td>16521.1669432497</td></tr>\n",
       "\t<tr><td>efficacy averaged     </td><td>0.697063277094304 </td><td>0.485897212273451 </td><td>6490.55924593995</td><td>7546.13134273863</td></tr>\n",
       "\t<tr><td>efficacy with values  </td><td>0.66927686160308  </td><td>0.447931517477269 </td><td>6633.50162672675</td><td>7807.90200974659</td></tr>\n",
       "\t<tr><td>efficacy averaged k12 </td><td>0.621820720146541 </td><td>0.386661008003563 </td><td>3530.59047248711</td><td>4479.10427947054</td></tr>\n",
       "\t<tr><td>efficacy averaged bl21</td><td>0.455880002455986 </td><td>0.207826576639269 </td><td>8522.23015539435</td><td>9266.04389652038</td></tr>\n",
       "\t<tr><td>accuracy averaged     </td><td>0.640268125334067 </td><td>0.4099432723188   </td><td>11296.3975019223</td><td>12265.0092866878</td></tr>\n",
       "</tbody>\n",
       "</table>\n"
      ],
      "text/latex": [
       "A data.frame: 6 x 5\n",
       "\\begin{tabular}{lllll}\n",
       " model & correlation & r\\_squared & mae & rmse\\\\\n",
       " <chr> & <chr> & <chr> & <chr> & <chr>\\\\\n",
       "\\hline\n",
       "\t random                 & -0.255847154044229 & 0.0654577662325313 & 14422.703458968  & 16521.1669432497\\\\\n",
       "\t efficacy averaged      & 0.697063277094304  & 0.485897212273451  & 6490.55924593995 & 7546.13134273863\\\\\n",
       "\t efficacy with values   & 0.66927686160308   & 0.447931517477269  & 6633.50162672675 & 7807.90200974659\\\\\n",
       "\t efficacy averaged k12  & 0.621820720146541  & 0.386661008003563  & 3530.59047248711 & 4479.10427947054\\\\\n",
       "\t efficacy averaged bl21 & 0.455880002455986  & 0.207826576639269  & 8522.23015539435 & 9266.04389652038\\\\\n",
       "\t accuracy averaged      & 0.640268125334067  & 0.4099432723188    & 11296.3975019223 & 12265.0092866878\\\\\n",
       "\\end{tabular}\n"
      ],
      "text/markdown": [
       "\n",
       "A data.frame: 6 x 5\n",
       "\n",
       "| model &lt;chr&gt; | correlation &lt;chr&gt; | r_squared &lt;chr&gt; | mae &lt;chr&gt; | rmse &lt;chr&gt; |\n",
       "|---|---|---|---|---|\n",
       "| random                 | -0.255847154044229 | 0.0654577662325313 | 14422.703458968  | 16521.1669432497 |\n",
       "| efficacy averaged      | 0.697063277094304  | 0.485897212273451  | 6490.55924593995 | 7546.13134273863 |\n",
       "| efficacy with values   | 0.66927686160308   | 0.447931517477269  | 6633.50162672675 | 7807.90200974659 |\n",
       "| efficacy averaged k12  | 0.621820720146541  | 0.386661008003563  | 3530.59047248711 | 4479.10427947054 |\n",
       "| efficacy averaged bl21 | 0.455880002455986  | 0.207826576639269  | 8522.23015539435 | 9266.04389652038 |\n",
       "| accuracy averaged      | 0.640268125334067  | 0.4099432723188    | 11296.3975019223 | 12265.0092866878 |\n",
       "\n"
      ],
      "text/plain": [
       "  model                  correlation        r_squared          mae             \n",
       "1 random                 -0.255847154044229 0.0654577662325313 14422.703458968 \n",
       "2 efficacy averaged      0.697063277094304  0.485897212273451  6490.55924593995\n",
       "3 efficacy with values   0.66927686160308   0.447931517477269  6633.50162672675\n",
       "4 efficacy averaged k12  0.621820720146541  0.386661008003563  3530.59047248711\n",
       "5 efficacy averaged bl21 0.455880002455986  0.207826576639269  8522.23015539435\n",
       "6 accuracy averaged      0.640268125334067  0.4099432723188    11296.3975019223\n",
       "  rmse            \n",
       "1 16521.1669432497\n",
       "2 7546.13134273863\n",
       "3 7807.90200974659\n",
       "4 4479.10427947054\n",
       "5 9266.04389652038\n",
       "6 12265.0092866878"
      ]
     },
     "metadata": {},
     "output_type": "display_data"
    }
   ],
   "source": [
    "results"
   ]
  },
  {
   "attachments": {},
   "cell_type": "markdown",
   "metadata": {},
   "source": [
    "#### Accuracy with values not averaged"
   ]
  },
  {
   "cell_type": "code",
   "execution_count": 86,
   "metadata": {
    "vscode": {
     "languageId": "r"
    }
   },
   "outputs": [],
   "source": [
    "# read file data_gfp_zrinka_predicted_accuracy.csv\n",
    "accuracy_model_values <- read.csv(\"dataframes/accuracy/accuracy_model_predictions.csv\", header = TRUE, sep = \",\")"
   ]
  },
  {
   "cell_type": "code",
   "execution_count": 87,
   "metadata": {
    "vscode": {
     "languageId": "r"
    }
   },
   "outputs": [],
   "source": [
    "results <- rbind(results, c(\"accuracy with values\", correlation(accuracy_model_values, \"value\"), r_squared(accuracy_model_values, \"value\"), mae(accuracy_model_values, \"value\"), rmse(accuracy_model_values, \"value\")))"
   ]
  },
  {
   "cell_type": "code",
   "execution_count": 88,
   "metadata": {
    "vscode": {
     "languageId": "r"
    }
   },
   "outputs": [
    {
     "data": {
      "text/html": [
       "<table class=\"dataframe\">\n",
       "<caption>A data.frame: 7 x 5</caption>\n",
       "<thead>\n",
       "\t<tr><th scope=col>model</th><th scope=col>correlation</th><th scope=col>r_squared</th><th scope=col>mae</th><th scope=col>rmse</th></tr>\n",
       "\t<tr><th scope=col>&lt;chr&gt;</th><th scope=col>&lt;chr&gt;</th><th scope=col>&lt;chr&gt;</th><th scope=col>&lt;chr&gt;</th><th scope=col>&lt;chr&gt;</th></tr>\n",
       "</thead>\n",
       "<tbody>\n",
       "\t<tr><td>random                </td><td>-0.255847154044229</td><td>0.0654577662325313</td><td>14422.703458968 </td><td>16521.1669432497</td></tr>\n",
       "\t<tr><td>efficacy averaged     </td><td>0.697063277094304 </td><td>0.485897212273451 </td><td>6490.55924593995</td><td>7546.13134273863</td></tr>\n",
       "\t<tr><td>efficacy with values  </td><td>0.66927686160308  </td><td>0.447931517477269 </td><td>6633.50162672675</td><td>7807.90200974659</td></tr>\n",
       "\t<tr><td>efficacy averaged k12 </td><td>0.621820720146541 </td><td>0.386661008003563 </td><td>3530.59047248711</td><td>4479.10427947054</td></tr>\n",
       "\t<tr><td>efficacy averaged bl21</td><td>0.455880002455986 </td><td>0.207826576639269 </td><td>8522.23015539435</td><td>9266.04389652038</td></tr>\n",
       "\t<tr><td>accuracy averaged     </td><td>0.640268125334067 </td><td>0.4099432723188   </td><td>11296.3975019223</td><td>12265.0092866878</td></tr>\n",
       "\t<tr><td>accuracy with values  </td><td>0.614745684630434 </td><td>0.377912256771741 </td><td>11311.8415233569</td><td>12427.7788986802</td></tr>\n",
       "</tbody>\n",
       "</table>\n"
      ],
      "text/latex": [
       "A data.frame: 7 x 5\n",
       "\\begin{tabular}{lllll}\n",
       " model & correlation & r\\_squared & mae & rmse\\\\\n",
       " <chr> & <chr> & <chr> & <chr> & <chr>\\\\\n",
       "\\hline\n",
       "\t random                 & -0.255847154044229 & 0.0654577662325313 & 14422.703458968  & 16521.1669432497\\\\\n",
       "\t efficacy averaged      & 0.697063277094304  & 0.485897212273451  & 6490.55924593995 & 7546.13134273863\\\\\n",
       "\t efficacy with values   & 0.66927686160308   & 0.447931517477269  & 6633.50162672675 & 7807.90200974659\\\\\n",
       "\t efficacy averaged k12  & 0.621820720146541  & 0.386661008003563  & 3530.59047248711 & 4479.10427947054\\\\\n",
       "\t efficacy averaged bl21 & 0.455880002455986  & 0.207826576639269  & 8522.23015539435 & 9266.04389652038\\\\\n",
       "\t accuracy averaged      & 0.640268125334067  & 0.4099432723188    & 11296.3975019223 & 12265.0092866878\\\\\n",
       "\t accuracy with values   & 0.614745684630434  & 0.377912256771741  & 11311.8415233569 & 12427.7788986802\\\\\n",
       "\\end{tabular}\n"
      ],
      "text/markdown": [
       "\n",
       "A data.frame: 7 x 5\n",
       "\n",
       "| model &lt;chr&gt; | correlation &lt;chr&gt; | r_squared &lt;chr&gt; | mae &lt;chr&gt; | rmse &lt;chr&gt; |\n",
       "|---|---|---|---|---|\n",
       "| random                 | -0.255847154044229 | 0.0654577662325313 | 14422.703458968  | 16521.1669432497 |\n",
       "| efficacy averaged      | 0.697063277094304  | 0.485897212273451  | 6490.55924593995 | 7546.13134273863 |\n",
       "| efficacy with values   | 0.66927686160308   | 0.447931517477269  | 6633.50162672675 | 7807.90200974659 |\n",
       "| efficacy averaged k12  | 0.621820720146541  | 0.386661008003563  | 3530.59047248711 | 4479.10427947054 |\n",
       "| efficacy averaged bl21 | 0.455880002455986  | 0.207826576639269  | 8522.23015539435 | 9266.04389652038 |\n",
       "| accuracy averaged      | 0.640268125334067  | 0.4099432723188    | 11296.3975019223 | 12265.0092866878 |\n",
       "| accuracy with values   | 0.614745684630434  | 0.377912256771741  | 11311.8415233569 | 12427.7788986802 |\n",
       "\n"
      ],
      "text/plain": [
       "  model                  correlation        r_squared          mae             \n",
       "1 random                 -0.255847154044229 0.0654577662325313 14422.703458968 \n",
       "2 efficacy averaged      0.697063277094304  0.485897212273451  6490.55924593995\n",
       "3 efficacy with values   0.66927686160308   0.447931517477269  6633.50162672675\n",
       "4 efficacy averaged k12  0.621820720146541  0.386661008003563  3530.59047248711\n",
       "5 efficacy averaged bl21 0.455880002455986  0.207826576639269  8522.23015539435\n",
       "6 accuracy averaged      0.640268125334067  0.4099432723188    11296.3975019223\n",
       "7 accuracy with values   0.614745684630434  0.377912256771741  11311.8415233569\n",
       "  rmse            \n",
       "1 16521.1669432497\n",
       "2 7546.13134273863\n",
       "3 7807.90200974659\n",
       "4 4479.10427947054\n",
       "5 9266.04389652038\n",
       "6 12265.0092866878\n",
       "7 12427.7788986802"
      ]
     },
     "metadata": {},
     "output_type": "display_data"
    }
   ],
   "source": [
    "results"
   ]
  },
  {
   "attachments": {},
   "cell_type": "markdown",
   "metadata": {},
   "source": [
    "#### Accuracy K12 strain set"
   ]
  },
  {
   "cell_type": "code",
   "execution_count": 89,
   "metadata": {
    "vscode": {
     "languageId": "r"
    }
   },
   "outputs": [],
   "source": [
    "# read file data_gfp_zrinka_predicted_accuracy.csv\n",
    "accuracy_model_k12 <- read.csv(\"dataframes/accuracy/accuracy_model_predictions_averaged_k12.csv\", header = TRUE, sep = \",\")"
   ]
  },
  {
   "cell_type": "code",
   "execution_count": 90,
   "metadata": {
    "vscode": {
     "languageId": "r"
    }
   },
   "outputs": [
    {
     "data": {
      "text/html": [
       "<style>\n",
       ".list-inline {list-style: none; margin:0; padding: 0}\n",
       ".list-inline>li {display: inline-block}\n",
       ".list-inline>li:not(:last-child)::after {content: \"\\00b7\"; padding: 0 .5ex}\n",
       "</style>\n",
       "<ol class=list-inline><li>'sequence_name'</li><li>'strain'</li><li>'mean_fluorescence'</li><li>'predicted_level'</li></ol>\n"
      ],
      "text/latex": [
       "\\begin{enumerate*}\n",
       "\\item 'sequence\\_name'\n",
       "\\item 'strain'\n",
       "\\item 'mean\\_fluorescence'\n",
       "\\item 'predicted\\_level'\n",
       "\\end{enumerate*}\n"
      ],
      "text/markdown": [
       "1. 'sequence_name'\n",
       "2. 'strain'\n",
       "3. 'mean_fluorescence'\n",
       "4. 'predicted_level'\n",
       "\n",
       "\n"
      ],
      "text/plain": [
       "[1] \"sequence_name\"     \"strain\"            \"mean_fluorescence\"\n",
       "[4] \"predicted_level\"  "
      ]
     },
     "metadata": {},
     "output_type": "display_data"
    }
   ],
   "source": [
    "names(accuracy_model_k12)"
   ]
  },
  {
   "cell_type": "code",
   "execution_count": 91,
   "metadata": {
    "vscode": {
     "languageId": "r"
    }
   },
   "outputs": [],
   "source": [
    "results <- rbind(results, c(\"accuracy averaged k12\", correlation(accuracy_model_k12), r_squared(accuracy_model_k12), mae(accuracy_model_k12), rmse(accuracy_model_k12)))"
   ]
  },
  {
   "cell_type": "code",
   "execution_count": 92,
   "metadata": {
    "vscode": {
     "languageId": "r"
    }
   },
   "outputs": [
    {
     "data": {
      "text/html": [
       "<table class=\"dataframe\">\n",
       "<caption>A data.frame: 8 x 5</caption>\n",
       "<thead>\n",
       "\t<tr><th scope=col>model</th><th scope=col>correlation</th><th scope=col>r_squared</th><th scope=col>mae</th><th scope=col>rmse</th></tr>\n",
       "\t<tr><th scope=col>&lt;chr&gt;</th><th scope=col>&lt;chr&gt;</th><th scope=col>&lt;chr&gt;</th><th scope=col>&lt;chr&gt;</th><th scope=col>&lt;chr&gt;</th></tr>\n",
       "</thead>\n",
       "<tbody>\n",
       "\t<tr><td>random                </td><td>-0.255847154044229</td><td>0.0654577662325313</td><td>14422.703458968 </td><td>16521.1669432497</td></tr>\n",
       "\t<tr><td>efficacy averaged     </td><td>0.697063277094304 </td><td>0.485897212273451 </td><td>6490.55924593995</td><td>7546.13134273863</td></tr>\n",
       "\t<tr><td>efficacy with values  </td><td>0.66927686160308  </td><td>0.447931517477269 </td><td>6633.50162672675</td><td>7807.90200974659</td></tr>\n",
       "\t<tr><td>efficacy averaged k12 </td><td>0.621820720146541 </td><td>0.386661008003563 </td><td>3530.59047248711</td><td>4479.10427947054</td></tr>\n",
       "\t<tr><td>efficacy averaged bl21</td><td>0.455880002455986 </td><td>0.207826576639269 </td><td>8522.23015539435</td><td>9266.04389652038</td></tr>\n",
       "\t<tr><td>accuracy averaged     </td><td>0.640268125334067 </td><td>0.4099432723188   </td><td>11296.3975019223</td><td>12265.0092866878</td></tr>\n",
       "\t<tr><td>accuracy with values  </td><td>0.614745684630434 </td><td>0.377912256771741 </td><td>11311.8415233569</td><td>12427.7788986802</td></tr>\n",
       "\t<tr><td>accuracy averaged k12 </td><td>0.732455051411732 </td><td>0.536490402338562 </td><td>7410.13940683992</td><td>8064.8560830199 </td></tr>\n",
       "</tbody>\n",
       "</table>\n"
      ],
      "text/latex": [
       "A data.frame: 8 x 5\n",
       "\\begin{tabular}{lllll}\n",
       " model & correlation & r\\_squared & mae & rmse\\\\\n",
       " <chr> & <chr> & <chr> & <chr> & <chr>\\\\\n",
       "\\hline\n",
       "\t random                 & -0.255847154044229 & 0.0654577662325313 & 14422.703458968  & 16521.1669432497\\\\\n",
       "\t efficacy averaged      & 0.697063277094304  & 0.485897212273451  & 6490.55924593995 & 7546.13134273863\\\\\n",
       "\t efficacy with values   & 0.66927686160308   & 0.447931517477269  & 6633.50162672675 & 7807.90200974659\\\\\n",
       "\t efficacy averaged k12  & 0.621820720146541  & 0.386661008003563  & 3530.59047248711 & 4479.10427947054\\\\\n",
       "\t efficacy averaged bl21 & 0.455880002455986  & 0.207826576639269  & 8522.23015539435 & 9266.04389652038\\\\\n",
       "\t accuracy averaged      & 0.640268125334067  & 0.4099432723188    & 11296.3975019223 & 12265.0092866878\\\\\n",
       "\t accuracy with values   & 0.614745684630434  & 0.377912256771741  & 11311.8415233569 & 12427.7788986802\\\\\n",
       "\t accuracy averaged k12  & 0.732455051411732  & 0.536490402338562  & 7410.13940683992 & 8064.8560830199 \\\\\n",
       "\\end{tabular}\n"
      ],
      "text/markdown": [
       "\n",
       "A data.frame: 8 x 5\n",
       "\n",
       "| model &lt;chr&gt; | correlation &lt;chr&gt; | r_squared &lt;chr&gt; | mae &lt;chr&gt; | rmse &lt;chr&gt; |\n",
       "|---|---|---|---|---|\n",
       "| random                 | -0.255847154044229 | 0.0654577662325313 | 14422.703458968  | 16521.1669432497 |\n",
       "| efficacy averaged      | 0.697063277094304  | 0.485897212273451  | 6490.55924593995 | 7546.13134273863 |\n",
       "| efficacy with values   | 0.66927686160308   | 0.447931517477269  | 6633.50162672675 | 7807.90200974659 |\n",
       "| efficacy averaged k12  | 0.621820720146541  | 0.386661008003563  | 3530.59047248711 | 4479.10427947054 |\n",
       "| efficacy averaged bl21 | 0.455880002455986  | 0.207826576639269  | 8522.23015539435 | 9266.04389652038 |\n",
       "| accuracy averaged      | 0.640268125334067  | 0.4099432723188    | 11296.3975019223 | 12265.0092866878 |\n",
       "| accuracy with values   | 0.614745684630434  | 0.377912256771741  | 11311.8415233569 | 12427.7788986802 |\n",
       "| accuracy averaged k12  | 0.732455051411732  | 0.536490402338562  | 7410.13940683992 | 8064.8560830199  |\n",
       "\n"
      ],
      "text/plain": [
       "  model                  correlation        r_squared          mae             \n",
       "1 random                 -0.255847154044229 0.0654577662325313 14422.703458968 \n",
       "2 efficacy averaged      0.697063277094304  0.485897212273451  6490.55924593995\n",
       "3 efficacy with values   0.66927686160308   0.447931517477269  6633.50162672675\n",
       "4 efficacy averaged k12  0.621820720146541  0.386661008003563  3530.59047248711\n",
       "5 efficacy averaged bl21 0.455880002455986  0.207826576639269  8522.23015539435\n",
       "6 accuracy averaged      0.640268125334067  0.4099432723188    11296.3975019223\n",
       "7 accuracy with values   0.614745684630434  0.377912256771741  11311.8415233569\n",
       "8 accuracy averaged k12  0.732455051411732  0.536490402338562  7410.13940683992\n",
       "  rmse            \n",
       "1 16521.1669432497\n",
       "2 7546.13134273863\n",
       "3 7807.90200974659\n",
       "4 4479.10427947054\n",
       "5 9266.04389652038\n",
       "6 12265.0092866878\n",
       "7 12427.7788986802\n",
       "8 8064.8560830199 "
      ]
     },
     "metadata": {},
     "output_type": "display_data"
    }
   ],
   "source": [
    "results"
   ]
  },
  {
   "attachments": {},
   "cell_type": "markdown",
   "metadata": {},
   "source": [
    "#### Accuracy no outliers"
   ]
  },
  {
   "cell_type": "code",
   "execution_count": 93,
   "metadata": {
    "vscode": {
     "languageId": "r"
    }
   },
   "outputs": [],
   "source": [
    "# read file data_gfp_zrinka_predicted_accuracy.csv\n",
    "accuracy_model_no_outliers <- read.csv(\"dataframes/accuracy/accuracy_model_predictions_averaged_no_outliers.csv\", header = TRUE, sep = \",\")"
   ]
  },
  {
   "cell_type": "code",
   "execution_count": 94,
   "metadata": {
    "vscode": {
     "languageId": "r"
    }
   },
   "outputs": [
    {
     "data": {
      "text/html": [
       "<style>\n",
       ".list-inline {list-style: none; margin:0; padding: 0}\n",
       ".list-inline>li {display: inline-block}\n",
       ".list-inline>li:not(:last-child)::after {content: \"\\00b7\"; padding: 0 .5ex}\n",
       "</style>\n",
       "<ol class=list-inline><li>'sequence_name'</li><li>'strain'</li><li>'mean_fluorescence'</li><li>'predicted_level'</li></ol>\n"
      ],
      "text/latex": [
       "\\begin{enumerate*}\n",
       "\\item 'sequence\\_name'\n",
       "\\item 'strain'\n",
       "\\item 'mean\\_fluorescence'\n",
       "\\item 'predicted\\_level'\n",
       "\\end{enumerate*}\n"
      ],
      "text/markdown": [
       "1. 'sequence_name'\n",
       "2. 'strain'\n",
       "3. 'mean_fluorescence'\n",
       "4. 'predicted_level'\n",
       "\n",
       "\n"
      ],
      "text/plain": [
       "[1] \"sequence_name\"     \"strain\"            \"mean_fluorescence\"\n",
       "[4] \"predicted_level\"  "
      ]
     },
     "metadata": {},
     "output_type": "display_data"
    }
   ],
   "source": [
    "names(accuracy_model_no_outliers)"
   ]
  },
  {
   "cell_type": "code",
   "execution_count": 95,
   "metadata": {
    "vscode": {
     "languageId": "r"
    }
   },
   "outputs": [],
   "source": [
    "results <- rbind(results, c(\"accuracy averaged no outliers\", correlation(accuracy_model_no_outliers), r_squared(accuracy_model_no_outliers), mae(accuracy_model_no_outliers), rmse(accuracy_model_no_outliers)))"
   ]
  },
  {
   "cell_type": "code",
   "execution_count": 96,
   "metadata": {
    "vscode": {
     "languageId": "r"
    }
   },
   "outputs": [
    {
     "data": {
      "text/html": [
       "<table class=\"dataframe\">\n",
       "<caption>A data.frame: 9 x 5</caption>\n",
       "<thead>\n",
       "\t<tr><th scope=col>model</th><th scope=col>correlation</th><th scope=col>r_squared</th><th scope=col>mae</th><th scope=col>rmse</th></tr>\n",
       "\t<tr><th scope=col>&lt;chr&gt;</th><th scope=col>&lt;chr&gt;</th><th scope=col>&lt;chr&gt;</th><th scope=col>&lt;chr&gt;</th><th scope=col>&lt;chr&gt;</th></tr>\n",
       "</thead>\n",
       "<tbody>\n",
       "\t<tr><td>random                       </td><td>-0.255847154044229</td><td>0.0654577662325313</td><td>14422.703458968 </td><td>16521.1669432497</td></tr>\n",
       "\t<tr><td>efficacy averaged            </td><td>0.697063277094304 </td><td>0.485897212273451 </td><td>6490.55924593995</td><td>7546.13134273863</td></tr>\n",
       "\t<tr><td>efficacy with values         </td><td>0.66927686160308  </td><td>0.447931517477269 </td><td>6633.50162672675</td><td>7807.90200974659</td></tr>\n",
       "\t<tr><td>efficacy averaged k12        </td><td>0.621820720146541 </td><td>0.386661008003563 </td><td>3530.59047248711</td><td>4479.10427947054</td></tr>\n",
       "\t<tr><td>efficacy averaged bl21       </td><td>0.455880002455986 </td><td>0.207826576639269 </td><td>8522.23015539435</td><td>9266.04389652038</td></tr>\n",
       "\t<tr><td>accuracy averaged            </td><td>0.640268125334067 </td><td>0.4099432723188   </td><td>11296.3975019223</td><td>12265.0092866878</td></tr>\n",
       "\t<tr><td>accuracy with values         </td><td>0.614745684630434 </td><td>0.377912256771741 </td><td>11311.8415233569</td><td>12427.7788986802</td></tr>\n",
       "\t<tr><td>accuracy averaged k12        </td><td>0.732455051411732 </td><td>0.536490402338562 </td><td>7410.13940683992</td><td>8064.8560830199 </td></tr>\n",
       "\t<tr><td>accuracy averaged no outliers</td><td>0.658960894444605 </td><td>0.434229460407232 </td><td>11308.5388527419</td><td>12307.1090952363</td></tr>\n",
       "</tbody>\n",
       "</table>\n"
      ],
      "text/latex": [
       "A data.frame: 9 x 5\n",
       "\\begin{tabular}{lllll}\n",
       " model & correlation & r\\_squared & mae & rmse\\\\\n",
       " <chr> & <chr> & <chr> & <chr> & <chr>\\\\\n",
       "\\hline\n",
       "\t random                        & -0.255847154044229 & 0.0654577662325313 & 14422.703458968  & 16521.1669432497\\\\\n",
       "\t efficacy averaged             & 0.697063277094304  & 0.485897212273451  & 6490.55924593995 & 7546.13134273863\\\\\n",
       "\t efficacy with values          & 0.66927686160308   & 0.447931517477269  & 6633.50162672675 & 7807.90200974659\\\\\n",
       "\t efficacy averaged k12         & 0.621820720146541  & 0.386661008003563  & 3530.59047248711 & 4479.10427947054\\\\\n",
       "\t efficacy averaged bl21        & 0.455880002455986  & 0.207826576639269  & 8522.23015539435 & 9266.04389652038\\\\\n",
       "\t accuracy averaged             & 0.640268125334067  & 0.4099432723188    & 11296.3975019223 & 12265.0092866878\\\\\n",
       "\t accuracy with values          & 0.614745684630434  & 0.377912256771741  & 11311.8415233569 & 12427.7788986802\\\\\n",
       "\t accuracy averaged k12         & 0.732455051411732  & 0.536490402338562  & 7410.13940683992 & 8064.8560830199 \\\\\n",
       "\t accuracy averaged no outliers & 0.658960894444605  & 0.434229460407232  & 11308.5388527419 & 12307.1090952363\\\\\n",
       "\\end{tabular}\n"
      ],
      "text/markdown": [
       "\n",
       "A data.frame: 9 x 5\n",
       "\n",
       "| model &lt;chr&gt; | correlation &lt;chr&gt; | r_squared &lt;chr&gt; | mae &lt;chr&gt; | rmse &lt;chr&gt; |\n",
       "|---|---|---|---|---|\n",
       "| random                        | -0.255847154044229 | 0.0654577662325313 | 14422.703458968  | 16521.1669432497 |\n",
       "| efficacy averaged             | 0.697063277094304  | 0.485897212273451  | 6490.55924593995 | 7546.13134273863 |\n",
       "| efficacy with values          | 0.66927686160308   | 0.447931517477269  | 6633.50162672675 | 7807.90200974659 |\n",
       "| efficacy averaged k12         | 0.621820720146541  | 0.386661008003563  | 3530.59047248711 | 4479.10427947054 |\n",
       "| efficacy averaged bl21        | 0.455880002455986  | 0.207826576639269  | 8522.23015539435 | 9266.04389652038 |\n",
       "| accuracy averaged             | 0.640268125334067  | 0.4099432723188    | 11296.3975019223 | 12265.0092866878 |\n",
       "| accuracy with values          | 0.614745684630434  | 0.377912256771741  | 11311.8415233569 | 12427.7788986802 |\n",
       "| accuracy averaged k12         | 0.732455051411732  | 0.536490402338562  | 7410.13940683992 | 8064.8560830199  |\n",
       "| accuracy averaged no outliers | 0.658960894444605  | 0.434229460407232  | 11308.5388527419 | 12307.1090952363 |\n",
       "\n"
      ],
      "text/plain": [
       "  model                         correlation        r_squared         \n",
       "1 random                        -0.255847154044229 0.0654577662325313\n",
       "2 efficacy averaged             0.697063277094304  0.485897212273451 \n",
       "3 efficacy with values          0.66927686160308   0.447931517477269 \n",
       "4 efficacy averaged k12         0.621820720146541  0.386661008003563 \n",
       "5 efficacy averaged bl21        0.455880002455986  0.207826576639269 \n",
       "6 accuracy averaged             0.640268125334067  0.4099432723188   \n",
       "7 accuracy with values          0.614745684630434  0.377912256771741 \n",
       "8 accuracy averaged k12         0.732455051411732  0.536490402338562 \n",
       "9 accuracy averaged no outliers 0.658960894444605  0.434229460407232 \n",
       "  mae              rmse            \n",
       "1 14422.703458968  16521.1669432497\n",
       "2 6490.55924593995 7546.13134273863\n",
       "3 6633.50162672675 7807.90200974659\n",
       "4 3530.59047248711 4479.10427947054\n",
       "5 8522.23015539435 9266.04389652038\n",
       "6 11296.3975019223 12265.0092866878\n",
       "7 11311.8415233569 12427.7788986802\n",
       "8 7410.13940683992 8064.8560830199 \n",
       "9 11308.5388527419 12307.1090952363"
      ]
     },
     "metadata": {},
     "output_type": "display_data"
    }
   ],
   "source": [
    "results"
   ]
  },
  {
   "cell_type": "code",
   "execution_count": 98,
   "metadata": {
    "vscode": {
     "languageId": "r"
    }
   },
   "outputs": [],
   "source": [
    "# read file data_ecoli_grouped.csv\n",
    "eff_acc_grouped <- read.csv(\"dataframes/efficacy_accuracy/data_ecoli_grouped.csv\", header = TRUE, sep = \",\")"
   ]
  },
  {
   "cell_type": "code",
   "execution_count": 99,
   "metadata": {
    "vscode": {
     "languageId": "r"
    }
   },
   "outputs": [
    {
     "data": {
      "text/html": [
       "<style>\n",
       ".list-inline {list-style: none; margin:0; padding: 0}\n",
       ".list-inline>li {display: inline-block}\n",
       ".list-inline>li:not(:last-child)::after {content: \"\\00b7\"; padding: 0 .5ex}\n",
       "</style>\n",
       "<ol class=list-inline><li>'X'</li><li>'sequence_name'</li><li>'strain'</li><li>'mean_fluorescence'</li><li>'predicted_level'</li></ol>\n"
      ],
      "text/latex": [
       "\\begin{enumerate*}\n",
       "\\item 'X'\n",
       "\\item 'sequence\\_name'\n",
       "\\item 'strain'\n",
       "\\item 'mean\\_fluorescence'\n",
       "\\item 'predicted\\_level'\n",
       "\\end{enumerate*}\n"
      ],
      "text/markdown": [
       "1. 'X'\n",
       "2. 'sequence_name'\n",
       "3. 'strain'\n",
       "4. 'mean_fluorescence'\n",
       "5. 'predicted_level'\n",
       "\n",
       "\n"
      ],
      "text/plain": [
       "[1] \"X\"                 \"sequence_name\"     \"strain\"           \n",
       "[4] \"mean_fluorescence\" \"predicted_level\"  "
      ]
     },
     "metadata": {},
     "output_type": "display_data"
    }
   ],
   "source": [
    "names(eff_acc_grouped)"
   ]
  },
  {
   "cell_type": "code",
   "execution_count": 100,
   "metadata": {
    "vscode": {
     "languageId": "r"
    }
   },
   "outputs": [],
   "source": [
    "results <- rbind(results, c(\"efficacy & accuracy averaged\", correlation(eff_acc_grouped), r_squared(eff_acc_grouped), mae(eff_acc_grouped), rmse(eff_acc_grouped)))"
   ]
  },
  {
   "cell_type": "code",
   "execution_count": 101,
   "metadata": {
    "vscode": {
     "languageId": "r"
    }
   },
   "outputs": [
    {
     "data": {
      "text/html": [
       "<table class=\"dataframe\">\n",
       "<caption>A data.frame: 10 x 5</caption>\n",
       "<thead>\n",
       "\t<tr><th scope=col>model</th><th scope=col>correlation</th><th scope=col>r_squared</th><th scope=col>mae</th><th scope=col>rmse</th></tr>\n",
       "\t<tr><th scope=col>&lt;chr&gt;</th><th scope=col>&lt;chr&gt;</th><th scope=col>&lt;chr&gt;</th><th scope=col>&lt;chr&gt;</th><th scope=col>&lt;chr&gt;</th></tr>\n",
       "</thead>\n",
       "<tbody>\n",
       "\t<tr><td>random                       </td><td>-0.255847154044229</td><td>0.0654577662325313</td><td>14422.703458968 </td><td>16521.1669432497</td></tr>\n",
       "\t<tr><td>efficacy averaged            </td><td>0.697063277094304 </td><td>0.485897212273451 </td><td>6490.55924593995</td><td>7546.13134273863</td></tr>\n",
       "\t<tr><td>efficacy with values         </td><td>0.66927686160308  </td><td>0.447931517477269 </td><td>6633.50162672675</td><td>7807.90200974659</td></tr>\n",
       "\t<tr><td>efficacy averaged k12        </td><td>0.621820720146541 </td><td>0.386661008003563 </td><td>3530.59047248711</td><td>4479.10427947054</td></tr>\n",
       "\t<tr><td>efficacy averaged bl21       </td><td>0.455880002455986 </td><td>0.207826576639269 </td><td>8522.23015539435</td><td>9266.04389652038</td></tr>\n",
       "\t<tr><td>accuracy averaged            </td><td>0.640268125334067 </td><td>0.4099432723188   </td><td>11296.3975019223</td><td>12265.0092866878</td></tr>\n",
       "\t<tr><td>accuracy with values         </td><td>0.614745684630434 </td><td>0.377912256771741 </td><td>11311.8415233569</td><td>12427.7788986802</td></tr>\n",
       "\t<tr><td>accuracy averaged k12        </td><td>0.732455051411732 </td><td>0.536490402338562 </td><td>7410.13940683992</td><td>8064.8560830199 </td></tr>\n",
       "\t<tr><td>accuracy averaged no outliers</td><td>0.658960894444605 </td><td>0.434229460407232 </td><td>11308.5388527419</td><td>12307.1090952363</td></tr>\n",
       "\t<tr><td>efficacy &amp; accuracy averaged </td><td>0.375656653188502 </td><td>0.141117921084786 </td><td>55683.1643693768</td><td>119537.591264089</td></tr>\n",
       "</tbody>\n",
       "</table>\n"
      ],
      "text/latex": [
       "A data.frame: 10 x 5\n",
       "\\begin{tabular}{lllll}\n",
       " model & correlation & r\\_squared & mae & rmse\\\\\n",
       " <chr> & <chr> & <chr> & <chr> & <chr>\\\\\n",
       "\\hline\n",
       "\t random                        & -0.255847154044229 & 0.0654577662325313 & 14422.703458968  & 16521.1669432497\\\\\n",
       "\t efficacy averaged             & 0.697063277094304  & 0.485897212273451  & 6490.55924593995 & 7546.13134273863\\\\\n",
       "\t efficacy with values          & 0.66927686160308   & 0.447931517477269  & 6633.50162672675 & 7807.90200974659\\\\\n",
       "\t efficacy averaged k12         & 0.621820720146541  & 0.386661008003563  & 3530.59047248711 & 4479.10427947054\\\\\n",
       "\t efficacy averaged bl21        & 0.455880002455986  & 0.207826576639269  & 8522.23015539435 & 9266.04389652038\\\\\n",
       "\t accuracy averaged             & 0.640268125334067  & 0.4099432723188    & 11296.3975019223 & 12265.0092866878\\\\\n",
       "\t accuracy with values          & 0.614745684630434  & 0.377912256771741  & 11311.8415233569 & 12427.7788986802\\\\\n",
       "\t accuracy averaged k12         & 0.732455051411732  & 0.536490402338562  & 7410.13940683992 & 8064.8560830199 \\\\\n",
       "\t accuracy averaged no outliers & 0.658960894444605  & 0.434229460407232  & 11308.5388527419 & 12307.1090952363\\\\\n",
       "\t efficacy \\& accuracy averaged  & 0.375656653188502  & 0.141117921084786  & 55683.1643693768 & 119537.591264089\\\\\n",
       "\\end{tabular}\n"
      ],
      "text/markdown": [
       "\n",
       "A data.frame: 10 x 5\n",
       "\n",
       "| model &lt;chr&gt; | correlation &lt;chr&gt; | r_squared &lt;chr&gt; | mae &lt;chr&gt; | rmse &lt;chr&gt; |\n",
       "|---|---|---|---|---|\n",
       "| random                        | -0.255847154044229 | 0.0654577662325313 | 14422.703458968  | 16521.1669432497 |\n",
       "| efficacy averaged             | 0.697063277094304  | 0.485897212273451  | 6490.55924593995 | 7546.13134273863 |\n",
       "| efficacy with values          | 0.66927686160308   | 0.447931517477269  | 6633.50162672675 | 7807.90200974659 |\n",
       "| efficacy averaged k12         | 0.621820720146541  | 0.386661008003563  | 3530.59047248711 | 4479.10427947054 |\n",
       "| efficacy averaged bl21        | 0.455880002455986  | 0.207826576639269  | 8522.23015539435 | 9266.04389652038 |\n",
       "| accuracy averaged             | 0.640268125334067  | 0.4099432723188    | 11296.3975019223 | 12265.0092866878 |\n",
       "| accuracy with values          | 0.614745684630434  | 0.377912256771741  | 11311.8415233569 | 12427.7788986802 |\n",
       "| accuracy averaged k12         | 0.732455051411732  | 0.536490402338562  | 7410.13940683992 | 8064.8560830199  |\n",
       "| accuracy averaged no outliers | 0.658960894444605  | 0.434229460407232  | 11308.5388527419 | 12307.1090952363 |\n",
       "| efficacy &amp; accuracy averaged  | 0.375656653188502  | 0.141117921084786  | 55683.1643693768 | 119537.591264089 |\n",
       "\n"
      ],
      "text/plain": [
       "   model                         correlation        r_squared         \n",
       "1  random                        -0.255847154044229 0.0654577662325313\n",
       "2  efficacy averaged             0.697063277094304  0.485897212273451 \n",
       "3  efficacy with values          0.66927686160308   0.447931517477269 \n",
       "4  efficacy averaged k12         0.621820720146541  0.386661008003563 \n",
       "5  efficacy averaged bl21        0.455880002455986  0.207826576639269 \n",
       "6  accuracy averaged             0.640268125334067  0.4099432723188   \n",
       "7  accuracy with values          0.614745684630434  0.377912256771741 \n",
       "8  accuracy averaged k12         0.732455051411732  0.536490402338562 \n",
       "9  accuracy averaged no outliers 0.658960894444605  0.434229460407232 \n",
       "10 efficacy & accuracy averaged  0.375656653188502  0.141117921084786 \n",
       "   mae              rmse            \n",
       "1  14422.703458968  16521.1669432497\n",
       "2  6490.55924593995 7546.13134273863\n",
       "3  6633.50162672675 7807.90200974659\n",
       "4  3530.59047248711 4479.10427947054\n",
       "5  8522.23015539435 9266.04389652038\n",
       "6  11296.3975019223 12265.0092866878\n",
       "7  11311.8415233569 12427.7788986802\n",
       "8  7410.13940683992 8064.8560830199 \n",
       "9  11308.5388527419 12307.1090952363\n",
       "10 55683.1643693768 119537.591264089"
      ]
     },
     "metadata": {},
     "output_type": "display_data"
    }
   ],
   "source": [
    "results"
   ]
  },
  {
   "attachments": {},
   "cell_type": "markdown",
   "metadata": {},
   "source": [
    "#### Accuracy BL21DE3 strain set"
   ]
  },
  {
   "cell_type": "code",
   "execution_count": 97,
   "metadata": {
    "vscode": {
     "languageId": "r"
    }
   },
   "outputs": [],
   "source": [
    "# read file data_gfp_zrinka_predicted_accuracy.csv\n",
    "accuracy_model_bl21 <- read.csv(\"dataframes/accuracy/accuracy_model_predictions_bl21.csv\", header = TRUE, sep = \",\")"
   ]
  },
  {
   "cell_type": "code",
   "execution_count": 48,
   "metadata": {
    "vscode": {
     "languageId": "r"
    }
   },
   "outputs": [
    {
     "data": {
      "text/html": [
       "<style>\n",
       ".list-inline {list-style: none; margin:0; padding: 0}\n",
       ".list-inline>li {display: inline-block}\n",
       ".list-inline>li:not(:last-child)::after {content: \"\\00b7\"; padding: 0 .5ex}\n",
       "</style>\n",
       "<ol class=list-inline><li>'sequence_name'</li><li>'strain'</li><li>'value'</li><li>'predicted_level'</li></ol>\n"
      ],
      "text/latex": [
       "\\begin{enumerate*}\n",
       "\\item 'sequence\\_name'\n",
       "\\item 'strain'\n",
       "\\item 'value'\n",
       "\\item 'predicted\\_level'\n",
       "\\end{enumerate*}\n"
      ],
      "text/markdown": [
       "1. 'sequence_name'\n",
       "2. 'strain'\n",
       "3. 'value'\n",
       "4. 'predicted_level'\n",
       "\n",
       "\n"
      ],
      "text/plain": [
       "[1] \"sequence_name\"   \"strain\"          \"value\"           \"predicted_level\""
      ]
     },
     "metadata": {},
     "output_type": "display_data"
    }
   ],
   "source": [
    "names(accuracy_model_bl21)"
   ]
  },
  {
   "cell_type": "code",
   "execution_count": 50,
   "metadata": {
    "vscode": {
     "languageId": "r"
    }
   },
   "outputs": [
    {
     "ename": "ERROR",
     "evalue": "Error in `[.data.frame`(model, , gt_col): colonnes non d'efinies s'electionn'ees\n",
     "output_type": "error",
     "traceback": [
      "Error in `[.data.frame`(model, , gt_col): colonnes non d'efinies s'electionn'ees\nTraceback:\n",
      "1. rbind(results, c(\"accuracy averaged bl21\", correlation(accuracy_model_bl21), \n .     r_squared(accuracy_model_bl21), mae(accuracy_model_bl21), \n .     rmse(accuracy_model_bl21)))",
      "2. rbind(deparse.level, ...)",
      "3. correlation(accuracy_model_bl21)",
      "4. cor(model[, gt_col], model$predicted_level)   # at line 2 of file <text>",
      "5. is.data.frame(x)",
      "6. model[, gt_col]   # at line 2 of file <text>",
      "7. `[.data.frame`(model, , gt_col)   # at line 2 of file <text>",
      "8. stop(\"undefined columns selected\")"
     ]
    }
   ],
   "source": [
    "results <- rbind(results, c(\"accuracy averaged bl21\", correlation(accuracy_model_bl21), r_squared(accuracy_model_bl21), mae(accuracy_model_bl21), rmse(accuracy_model_bl21)))"
   ]
  },
  {
   "cell_type": "code",
   "execution_count": null,
   "metadata": {
    "vscode": {
     "languageId": "r"
    }
   },
   "outputs": [
    {
     "data": {
      "text/html": [
       "<table class=\"dataframe\">\n",
       "<caption>A data.frame: 9 x 5</caption>\n",
       "<thead>\n",
       "\t<tr><th scope=col>model</th><th scope=col>correlation</th><th scope=col>r_squared</th><th scope=col>mae</th><th scope=col>rmse</th></tr>\n",
       "\t<tr><th scope=col>&lt;chr&gt;</th><th scope=col>&lt;chr&gt;</th><th scope=col>&lt;chr&gt;</th><th scope=col>&lt;chr&gt;</th><th scope=col>&lt;chr&gt;</th></tr>\n",
       "</thead>\n",
       "<tbody>\n",
       "\t<tr><td>random                </td><td>-0.111843267939443</td><td>0.012508916583374</td><td>11195.6141561934</td><td>13941.210317551 </td></tr>\n",
       "\t<tr><td>efficiency averaged   </td><td>0.697063277094304 </td><td>0.485897212273451</td><td>6490.55924593995</td><td>7546.13134273863</td></tr>\n",
       "\t<tr><td>efficiency with values</td><td>0.66927686160308  </td><td>0.447931517477269</td><td>6633.50162672675</td><td>7807.90200974659</td></tr>\n",
       "\t<tr><td>efficacy averaged k12 </td><td>0.73667383237626  </td><td>0.542688335307926</td><td>3299.53221960326</td><td>3746.2178370665 </td></tr>\n",
       "\t<tr><td>efficacy averaged bl21</td><td>0.470697035275706 </td><td>0.22155569901734 </td><td>8432.92352284054</td><td>9113.90137859249</td></tr>\n",
       "\t<tr><td>accuracy averaged     </td><td>0.640268125334067 </td><td>0.4099432723188  </td><td>11296.3975019223</td><td>12265.0092866878</td></tr>\n",
       "\t<tr><td>accuracy with values  </td><td>0.614745684630434 </td><td>0.377912256771741</td><td>11311.8415233569</td><td>12427.7788986802</td></tr>\n",
       "\t<tr><td>accuracy averaged k12 </td><td>0.732455051411732 </td><td>0.536490402338562</td><td>7410.13940683992</td><td>8064.8560830199 </td></tr>\n",
       "\t<tr><td>accuracy averaged bl21</td><td>0.477728210294581 </td><td>0.228224242911263</td><td>13661.9459076246</td><td>14226.9494770777</td></tr>\n",
       "</tbody>\n",
       "</table>\n"
      ],
      "text/latex": [
       "A data.frame: 9 x 5\n",
       "\\begin{tabular}{lllll}\n",
       " model & correlation & r\\_squared & mae & rmse\\\\\n",
       " <chr> & <chr> & <chr> & <chr> & <chr>\\\\\n",
       "\\hline\n",
       "\t random                 & -0.111843267939443 & 0.012508916583374 & 11195.6141561934 & 13941.210317551 \\\\\n",
       "\t efficiency averaged    & 0.697063277094304  & 0.485897212273451 & 6490.55924593995 & 7546.13134273863\\\\\n",
       "\t efficiency with values & 0.66927686160308   & 0.447931517477269 & 6633.50162672675 & 7807.90200974659\\\\\n",
       "\t efficacy averaged k12  & 0.73667383237626   & 0.542688335307926 & 3299.53221960326 & 3746.2178370665 \\\\\n",
       "\t efficacy averaged bl21 & 0.470697035275706  & 0.22155569901734  & 8432.92352284054 & 9113.90137859249\\\\\n",
       "\t accuracy averaged      & 0.640268125334067  & 0.4099432723188   & 11296.3975019223 & 12265.0092866878\\\\\n",
       "\t accuracy with values   & 0.614745684630434  & 0.377912256771741 & 11311.8415233569 & 12427.7788986802\\\\\n",
       "\t accuracy averaged k12  & 0.732455051411732  & 0.536490402338562 & 7410.13940683992 & 8064.8560830199 \\\\\n",
       "\t accuracy averaged bl21 & 0.477728210294581  & 0.228224242911263 & 13661.9459076246 & 14226.9494770777\\\\\n",
       "\\end{tabular}\n"
      ],
      "text/markdown": [
       "\n",
       "A data.frame: 9 x 5\n",
       "\n",
       "| model &lt;chr&gt; | correlation &lt;chr&gt; | r_squared &lt;chr&gt; | mae &lt;chr&gt; | rmse &lt;chr&gt; |\n",
       "|---|---|---|---|---|\n",
       "| random                 | -0.111843267939443 | 0.012508916583374 | 11195.6141561934 | 13941.210317551  |\n",
       "| efficiency averaged    | 0.697063277094304  | 0.485897212273451 | 6490.55924593995 | 7546.13134273863 |\n",
       "| efficiency with values | 0.66927686160308   | 0.447931517477269 | 6633.50162672675 | 7807.90200974659 |\n",
       "| efficacy averaged k12  | 0.73667383237626   | 0.542688335307926 | 3299.53221960326 | 3746.2178370665  |\n",
       "| efficacy averaged bl21 | 0.470697035275706  | 0.22155569901734  | 8432.92352284054 | 9113.90137859249 |\n",
       "| accuracy averaged      | 0.640268125334067  | 0.4099432723188   | 11296.3975019223 | 12265.0092866878 |\n",
       "| accuracy with values   | 0.614745684630434  | 0.377912256771741 | 11311.8415233569 | 12427.7788986802 |\n",
       "| accuracy averaged k12  | 0.732455051411732  | 0.536490402338562 | 7410.13940683992 | 8064.8560830199  |\n",
       "| accuracy averaged bl21 | 0.477728210294581  | 0.228224242911263 | 13661.9459076246 | 14226.9494770777 |\n",
       "\n"
      ],
      "text/plain": [
       "  model                  correlation        r_squared         mae             \n",
       "1 random                 -0.111843267939443 0.012508916583374 11195.6141561934\n",
       "2 efficiency averaged    0.697063277094304  0.485897212273451 6490.55924593995\n",
       "3 efficiency with values 0.66927686160308   0.447931517477269 6633.50162672675\n",
       "4 efficacy averaged k12  0.73667383237626   0.542688335307926 3299.53221960326\n",
       "5 efficacy averaged bl21 0.470697035275706  0.22155569901734  8432.92352284054\n",
       "6 accuracy averaged      0.640268125334067  0.4099432723188   11296.3975019223\n",
       "7 accuracy with values   0.614745684630434  0.377912256771741 11311.8415233569\n",
       "8 accuracy averaged k12  0.732455051411732  0.536490402338562 7410.13940683992\n",
       "9 accuracy averaged bl21 0.477728210294581  0.228224242911263 13661.9459076246\n",
       "  rmse            \n",
       "1 13941.210317551 \n",
       "2 7546.13134273863\n",
       "3 7807.90200974659\n",
       "4 3746.2178370665 \n",
       "5 9113.90137859249\n",
       "6 12265.0092866878\n",
       "7 12427.7788986802\n",
       "8 8064.8560830199 \n",
       "9 14226.9494770777"
      ]
     },
     "metadata": {},
     "output_type": "display_data"
    }
   ],
   "source": [
    "results"
   ]
  },
  {
   "cell_type": "code",
   "execution_count": null,
   "metadata": {
    "vscode": {
     "languageId": "r"
    }
   },
   "outputs": [],
   "source": [
    "# read file data_gfp_zrinka_predicted_accuracy.csv\n",
    "accuracy_model_averaged_no_outliers <- read.csv(\"dataframes/accuracy/accuracy_model_predictions_averaged_no_outliers.csv\", header = TRUE, sep = \",\")"
   ]
  },
  {
   "cell_type": "code",
   "execution_count": null,
   "metadata": {
    "vscode": {
     "languageId": "r"
    }
   },
   "outputs": [
    {
     "ename": "ERROR",
     "evalue": "Error in rbind(results, c(\"accuracy averaged no outliers\", correlation(accuracy_model_averaged_no_outliers), : objeto 'results' no encontrado\n",
     "output_type": "error",
     "traceback": [
      "Error in rbind(results, c(\"accuracy averaged no outliers\", correlation(accuracy_model_averaged_no_outliers), : objeto 'results' no encontrado\nTraceback:\n",
      "1. rbind(results, c(\"accuracy averaged no outliers\", correlation(accuracy_model_averaged_no_outliers), \n .     r_squared(accuracy_model_averaged_no_outliers), mae(accuracy_model_averaged_no_outliers), \n .     rmse(accuracy_model_averaged_no_outliers)))"
     ]
    }
   ],
   "source": [
    "results <- rbind(results, c(\"accuracy averaged no outliers\", correlation(accuracy_model_averaged_no_outliers), r_squared(accuracy_model_averaged_no_outliers), mae(accuracy_model_averaged_no_outliers), rmse(accuracy_model_averaged_no_outliers)))"
   ]
  },
  {
   "cell_type": "code",
   "execution_count": null,
   "metadata": {
    "vscode": {
     "languageId": "r"
    }
   },
   "outputs": [],
   "source": [
    "results"
   ]
  }
 ],
 "metadata": {
  "kernelspec": {
   "display_name": "R",
   "language": "R",
   "name": "ir"
  },
  "language_info": {
   "codemirror_mode": "r",
   "file_extension": ".r",
   "mimetype": "text/x-r-source",
   "name": "R",
   "pygments_lexer": "r",
   "version": "4.1.1"
  },
  "orig_nbformat": 4
 },
 "nbformat": 4,
 "nbformat_minor": 2
}
